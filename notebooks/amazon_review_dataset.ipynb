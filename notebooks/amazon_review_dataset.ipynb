{
 "cells": [
  {
   "cell_type": "code",
   "execution_count": 1,
   "id": "18e6791b",
   "metadata": {},
   "outputs": [],
   "source": [
    "import os\n",
    "import gc\n",
    "import json\n",
    "import gzip\n",
    "import pickle\n",
    "import numpy as np\n",
    "import pandas as pd\n",
    "from bs4 import BeautifulSoup\n",
    "from urllib.request import urlopen\n",
    "from scipy.sparse import csr_matrix"
   ]
  },
  {
   "cell_type": "markdown",
   "id": "9f2b462a",
   "metadata": {},
   "source": [
    "## Arguement"
   ]
  },
  {
   "cell_type": "code",
   "execution_count": 2,
   "id": "a163346e",
   "metadata": {},
   "outputs": [],
   "source": [
    "dataset_home = '/home/scai/phd/aiz218323/scratch/XML/amazon-review-data/'\n",
    "\n",
    "amazon_file = f'{dataset_home}/datasets/All_Amazon_Meta.json.gz'\n",
    "save_dir = f'{dataset_home}/GraphAmazonProducts/results'"
   ]
  },
  {
   "cell_type": "markdown",
   "id": "a304849b",
   "metadata": {},
   "source": [
    "## Helper function"
   ]
  },
  {
   "cell_type": "code",
   "execution_count": 3,
   "id": "abdd8dec",
   "metadata": {
    "code_folding": [
     0
    ]
   },
   "outputs": [],
   "source": [
    "def dict_head_random(dictionary, n=10):\n",
    "    if len(dictionary):\n",
    "        keys = np.random.choice(list(dictionary.keys()), size=n)\n",
    "        for k in keys:\n",
    "            print(f'{k} : {dictionary[k]}')\n",
    "    else:\n",
    "        print(\"EMPTY!!\")\n",
    "        "
   ]
  },
  {
   "cell_type": "code",
   "execution_count": 4,
   "id": "b6138539",
   "metadata": {
    "code_folding": [
     0
    ]
   },
   "outputs": [],
   "source": [
    "def read_amazon_dataset(filename, num_prods=3):\n",
    "    data = []\n",
    "    num_prods_cnt = 0\n",
    "    with gzip.open(filename) as file:\n",
    "        for i, line in enumerate(file):\n",
    "            if  num_prods is None or num_prods_cnt < num_prods:\n",
    "                product = json.loads(line.strip())\n",
    "                if product['also_buy'] or product['also_view'] or product['similar_item']:\n",
    "                    data.append(product)\n",
    "                    num_prods_cnt += 1\n",
    "            else:\n",
    "                break\n",
    "            if i > num_prods:\n",
    "                break\n",
    "    return data\n"
   ]
  },
  {
   "cell_type": "markdown",
   "id": "c92c75b1",
   "metadata": {
    "heading_collapsed": true
   },
   "source": [
    "## View data"
   ]
  },
  {
   "cell_type": "markdown",
   "id": "d6d6de31",
   "metadata": {
    "hidden": true
   },
   "source": [
    "Column headers : <br>\n",
    "**category | \n",
    "tech1 |\n",
    "description |\n",
    "fit |\n",
    "title |\n",
    "also_buy |\n",
    "image |\n",
    "tech2 |\n",
    "brand |\n",
    "feature |\n",
    "rank |\n",
    "also_view |\n",
    "details |\n",
    "main_cat |\n",
    "similar_item |\n",
    "date |\n",
    "price |\n",
    "asin**\n",
    "\n",
    "Columns under consideration : <br>\n",
    "**also_buy | also_view | similar_item**"
   ]
  },
  {
   "cell_type": "code",
   "execution_count": 91,
   "id": "71eb4262",
   "metadata": {
    "hidden": true
   },
   "outputs": [],
   "source": [
    "data = read_amazon_dataset(amazon_file, num_prods=10)"
   ]
  },
  {
   "cell_type": "code",
   "execution_count": 5,
   "id": "e1b8c598",
   "metadata": {
    "hidden": true
   },
   "outputs": [],
   "source": [
    "data = read_amazon_dataset(amazon_file, num_prods=100_000)"
   ]
  },
  {
   "cell_type": "code",
   "execution_count": 92,
   "id": "af2d1936",
   "metadata": {
    "hidden": true
   },
   "outputs": [
    {
     "name": "stdout",
     "output_type": "stream",
     "text": [
      "FQQ Women Sexy Lingerie Lace Dress Sheer Babydoll Underwear G-string Outfit Set : 6342522545\n",
      " []\n"
     ]
    }
   ],
   "source": [
    "n = 4\n",
    "print(f\"{data[n]['title']} : {data[n]['asin']}\\n\", data[n]['also_view'])"
   ]
  },
  {
   "cell_type": "code",
   "execution_count": 93,
   "id": "bfebdd46",
   "metadata": {
    "hidden": true
   },
   "outputs": [
    {
     "name": "stdout",
     "output_type": "stream",
     "text": [
      "6342506256\n",
      "6342509379\n",
      "6342522081\n",
      "6342502315\n",
      "6342522545\n",
      "634252209X\n",
      "6342522898\n",
      "6342523002\n"
     ]
    }
   ],
   "source": [
    "for i in range(len(data)):\n",
    "    print(data[i]['asin'])"
   ]
  },
  {
   "cell_type": "code",
   "execution_count": 156,
   "id": "352ed303",
   "metadata": {
    "hidden": true
   },
   "outputs": [],
   "source": [
    "for i, d in enumerate(data):\n",
    "    also, cnt = np.unique(d['also_view'], return_counts=True)\n",
    "    if len(np.where(cnt > 1)[0]):\n",
    "        print(i)"
   ]
  },
  {
   "cell_type": "markdown",
   "id": "9fff282b",
   "metadata": {
    "heading_collapsed": true
   },
   "source": [
    "## Extract similar items"
   ]
  },
  {
   "cell_type": "markdown",
   "id": "c9d7c327",
   "metadata": {
    "heading_collapsed": true,
    "hidden": true
   },
   "source": [
    "### Exploration"
   ]
  },
  {
   "cell_type": "code",
   "execution_count": 10,
   "id": "21ebb73e",
   "metadata": {
    "hidden": true
   },
   "outputs": [],
   "source": [
    "prod_with_similar = []\n",
    "for d in data:\n",
    "    if d['similar_item']:\n",
    "        prod_with_similar.append(d['similar_item'])"
   ]
  },
  {
   "cell_type": "code",
   "execution_count": 11,
   "id": "f3ade0f7",
   "metadata": {
    "hidden": true
   },
   "outputs": [
    {
     "data": {
      "text/plain": [
       "2564"
      ]
     },
     "execution_count": 11,
     "metadata": {},
     "output_type": "execute_result"
    }
   ],
   "source": [
    "len(prod_with_similar)"
   ]
  },
  {
   "cell_type": "code",
   "execution_count": 12,
   "id": "32fb4dcf",
   "metadata": {
    "hidden": true,
    "scrolled": true
   },
   "outputs": [
    {
     "name": "stdout",
     "output_type": "stream",
     "text": [
      " class=\"a-bordered a-horizontal-stripes  a-spacing-extra-large a-size-base comparison_table\">\n",
      "\n",
      "\n",
      "\n",
      "            \n",
      "            \n",
      "            \n",
      "            \n",
      "            \n",
      "            <tr class=\"comparison_table_image_row\">\n",
      "                <td class=\"comparison_table_first_col\"></td>\n",
      "\n",
      "\n",
      "                <th class=\"comparison_image_title_cell\" role=\"columnheader\">\n",
      "                    <div class=\"a-row a-spacing-top-micro\">\n",
      "                        <center>\n",
      "                             <img alt=\"Dogs Sterling Silver Loud Figural Dog WHISTLE Pendant\" src=\"https://images-na.ssl-images-amazon.com/images/I/419XwGqfZIL._SL500_AC_SS350_.jpg\" id=\"comparison_image\">\n",
      "                        </center>\n",
      "                    </div>\n",
      "                    <div class=\"a-row a-spacing-top-small\">\n",
      "                        <div id=\"comparison_title\" class=\"a-section a-spacing-none\">\n",
      "                            <span aria-hidden=\"true\" class=\"a-size-base a-color-base a-text-bold\">\n",
      "                                This item\n",
      "                            </span>\n",
      "                            <span aria-hidden=\"true\" class=\"a-size-base a-color-base\">Dogs Sterling Silver Loud Figural Dog WHISTLE Pendant</span>\n",
      "                        </div>\n",
      "                        \n",
      "                        \n",
      "                    </div>\n",
      "                </th>\n",
      "\n",
      "\n",
      "                \n",
      "                    <th class=\"comparison_image_title_cell comparable_item0\" role=\"columnheader\">\n",
      "                        <a class=\"a-link-normal\" target=\"_self\" rel=\"noopener\" href=\"/dp/B01GP2D274/ref=psdc_7454935011_t1_B00023JSBM\">\n",
      "                          <div class=\"a-row a-spacing-top-micro\">\n",
      "                            <center>\n",
      "                                <img alt=\"\" src=\"https://images-na.ssl-images-amazon.com/images/I/31tk5-U-pWL._SL500_AC_SS350_.jpg\" aria-hidden=\"true\" id=\"comparison_image0\">\n",
      "                            </center>\n",
      "                          </div>\n",
      "                          <div id=\"comparison_title0\" class=\"a-row a-spacing-top-small\">\n",
      "                            <span class=\"a-size-base\">.925 Sterling Silver Whistle Charm Pendant</span>\n",
      "                          </div>\n",
      "                        </a>\n",
      "                        \n",
      "                        \n",
      "                    </th>\n",
      "                \n",
      "                    <th class=\"comparison_image_title_cell comparable_item1\" role=\"columnheader\">\n",
      "                        <a class=\"a-link-normal\" target=\"_self\" rel=\"noopener\" href=\"/dp/B0007ZDV1S/ref=psdc_7454935011_t2_B00023JSBM\">\n",
      "                          <div class=\"a-row a-spacing-top-micro\">\n",
      "                            <center>\n",
      "                                <img alt=\"\" src=\"https://images-na.ssl-images-amazon.com/images/I/41KIe4NiDSL._SL500_AC_SS350_.jpg\" aria-hidden=\"true\" id=\"comparison_image1\">\n",
      "                            </center>\n",
      "                          </div>\n",
      "                          <div id=\"comparison_title1\" class=\"a-row a-spacing-top-small\">\n",
      "                            <span class=\"a-size-base\">Sterling Silver Chihuahuas Dog Pendant</span>\n",
      "                          </div>\n",
      "                        </a>\n",
      "                        \n",
      "                        \n",
      "                    </th>\n",
      "                \n",
      "                    <th class=\"comparison_image_title_cell comparable_item2\" role=\"columnheader\">\n",
      "                        <a class=\"a-link-normal\" target=\"_self\" rel=\"noopener\" href=\"/dp/B0007ZFX8C/ref=psdc_7454935011_t3_B00023JSBM\">\n",
      "                          <div class=\"a-row a-spacing-top-micro\">\n",
      "                            <center>\n",
      "                                <img alt=\"\" src=\"https://images-na.ssl-images-amazon.com/images/I/51%2BX4LWBwHL._SL500_AC_SS350_.jpg\" aria-hidden=\"true\" id=\"comparison_image2\">\n",
      "                            </center>\n",
      "                          </div>\n",
      "                          <div id=\"comparison_title2\" class=\"a-row a-spacing-top-small\">\n",
      "                            <span class=\"a-size-base\">Sterling Silver Chihuahuas Dog Pendant</span>\n",
      "                          </div>\n",
      "                        </a>\n",
      "                        \n",
      "                        \n",
      "                    </th>\n",
      "                \n",
      "            </tr>\n",
      "\n",
      "\n",
      "            <tr></tr>\n",
      "\n",
      "\n",
      "            \n",
      "            \n",
      "            <tr>\n",
      "                <td class=\"comparison_table_first_col\"></td>\n",
      "\n",
      "\n",
      "                <td class=\"comparison_add_to_cart_button\">\n",
      "                    \n",
      "                        \n",
      "                        \n",
      "                        \n",
      "                            <span id=\"comparison_add_to_cart_button\" class=\"a-button a-spacing-small a-button-primary\"><span class=\"a-button-inner\"><a id=\"comparison_add_to_cart_button-announce\" href=\"/gp/item-dispatch/ref=psdc_7454935011_a0_B00023JSBM?ie=UTF8&amp;itemCount=1&amp;nodeID=3367581&amp;offeringID.1=QFBSZYPbx%252B%252FwBJz8%252Bqr8LN5CDQZaV9AgD5P1nLv1w%252FV%252BRny6hOHFDYNWJmBWXQ37Xz1pFLD7XVELJA9Ve4NRArD8p%252FdoXX5V298iQtut%252FmveeLXWLN0vk5w%252F1%252F8iD%252BVXypVwvt2RHJstzg7tfsJNrw%253D%253D&amp;storeID=jewelry&amp;session-id=135-4948178-3011939&amp;submit.addToCart=addToCart&amp;signInToHUC=0\" class=\"a-button-text\" role=\"button\">Add to Cart</a></span></span>\n",
      "                        \n",
      "                    \n",
      "                </td>\n",
      "\n",
      "\n",
      "                \n",
      "                    <td class=\"a-text-left comparison_add_to_cart_button comparable_item0\">\n",
      "                        \n",
      "                            \n",
      "                            \n",
      "                                <span id=\"comparison_add_to_cart_button0\" class=\"a-button a-spacing-small a-button-primary\"><span class=\"a-button-inner\"><a id=\"comparison_add_to_cart_button0-announce\" href=\"/gp/item-dispatch/ref=psdc_7454935011_a1_B00023JSBM?ie=UTF8&amp;itemCount=1&amp;nodeID=3367581&amp;offeringID.1=QFBSZYPbx%252B%252BrgKl3aUvkbweZSH45cl9aAFrNLniOisOtov0kL1L%252BDNybYSTv4ykgO8pRe3wXXDihED8J5TYQtSXE4EG%252BMViHU1qTKeOhtk3mgbrun5EaMNbgbdaKcg8H4273uDoTRbxKLQRqKVnOCg%253D%253D&amp;storeID=jewelry&amp;session-id=135-4948178-3011939&amp;submit.addToCart=addToCart&amp;signInToHUC=0\" class=\"a-button-text\" role=\"button\">Add to Cart</a></span></span>\n",
      "                            \n",
      "                        \n",
      "                    </td>\n",
      "                \n",
      "                    <td class=\"a-text-left comparison_add_to_cart_button comparable_item1\">\n",
      "                        \n",
      "                            \n",
      "                            \n",
      "                                <span id=\"comparison_add_to_cart_button1\" class=\"a-button a-spacing-small a-button-primary\"><span class=\"a-button-inner\"><a id=\"comparison_add_to_cart_button1-announce\" href=\"/gp/item-dispatch/ref=psdc_7454935011_a2_B00023JSBM?ie=UTF8&amp;itemCount=1&amp;nodeID=3367581&amp;offeringID.1=QFBSZYPbx%252B%252FwBJz8%252Bqr8LAnISiRMQbCqJvBL5WUoTYmMwjTwopxlAeNwKkkAr51IzBcPCWULg2BT8hkjLW6wOnzHiVyM%252BB2rYn9OZmFnSkLH4vX4fiKBZOIMFsvw4oEifcIi%252ByStV%252BM%253D&amp;storeID=jewelry&amp;session-id=135-4948178-3011939&amp;submit.addToCart=addToCart&amp;signInToHUC=0\" class=\"a-button-text\" role=\"button\">Add to Cart</a></span></span>\n",
      "                            \n",
      "                        \n",
      "                    </td>\n",
      "                \n",
      "                    <td class=\"a-text-left comparison_add_to_cart_button comparable_item2\">\n",
      "                        \n",
      "                            \n",
      "                            \n",
      "                                <span id=\"comparison_add_to_cart_button2\" class=\"a-button a-spacing-small a-button-primary\"><span class=\"a-button-inner\"><a id=\"comparison_add_to_cart_button2-announce\" href=\"/gp/item-dispatch/ref=psdc_7454935011_a3_B00023JSBM?ie=UTF8&amp;itemCount=1&amp;nodeID=3367581&amp;offeringID.1=QFBSZYPbx%252B%252FwBJz8%252Bqr8LJgsIFdcSaveAZx5Lr3buvV4oGeh5ngSSM5fkxP1BSwoA9l7iScKnXeZE8mYL%252BWBJ%252BElbPkKJlUA0oM1phVcoAkXtFg7LAwPOV1eFEUMYU3ten1neGvwKC8%253D&amp;storeID=jewelry&amp;session-id=135-4948178-3011939&amp;submit.addToCart=addToCart&amp;signInToHUC=0\" class=\"a-button-text\" role=\"button\">Add to Cart</a></span></span>\n",
      "                            \n",
      "                        \n",
      "                    </td>\n",
      "                \n",
      "            </tr>\n",
      "\n",
      "\n",
      "            <tr id=\"comparison_custormer_rating_row\">\n",
      "                \n",
      "                \n",
      "                \n",
      "                \n",
      "\n",
      "                <th class=\"comparison_attribute_name_column comparison_table_first_col\" role=\"rowheader\">\n",
      "                    <span class=\"a-size-base a-color-base\">Customer Rating</span>\n",
      "                </th>\n",
      "\n",
      "\n",
      "                <td class=\"comparison_baseitem_column\">\n",
      "                    \n",
      "                    \n",
      "                    \n",
      "                    <span>\n",
      "                        <span class=\"a-declarative\" data-action=\"a-popover\" data-a-popover=\"{&quot;max-width&quot;:&quot;700&quot;,&quot;closeButton&quot;:&quot;false&quot;,&quot;position&quot;:&quot;triggerBottom&quot;,&quot;url&quot;:&quot; /gp/customer-reviews/widgets/average-customer-review/popover/ref=acr_dpComparsion__popover?contextId=dpComparsion&amp;asin=B00023JSBM &quot;,&quot;restoreFocusOnHide&quot;:&quot;false&quot;}\">\n",
      "                            <i class=\"a-icon a-icon-star a-star-4-5 a-spacing-none\"><span class=\"a-icon-alt\">4 out of 5 stars</span></i>\n",
      "                        </span>\n",
      "                        <a class=\"a-link-normal\" target=\"_self\" rel=\"noopener\" href=\"/product-reviews/B00023JSBM/ref=psdc_7454935011_r0_B00023JSBM?_encoding=UTF8&amp;showViewpoints=1\">(3)</a>\n",
      "                        <span class=\"a-letter-space\"></span>\n",
      "                    </span>\n",
      "                </td>\n",
      "\n",
      "\n",
      "                \n",
      "                    <td class=\"comparison_sim_items_column comparable_item0\">\n",
      "                        \n",
      "                        \n",
      "                        \n",
      "                        <span>\n",
      "                            <span class=\"a-declarative\" data-action=\"a-popover\" data-a-popover=\"{&quot;max-width&quot;:&quot;700&quot;,&quot;closeButton&quot;:&quot;false&quot;,&quot;position&quot;:&quot;triggerBottom&quot;,&quot;url&quot;:&quot; /gp/customer-reviews/widgets/average-customer-review/popover/ref=acr_dpComparsion__popover?contextId=dpComparsion&amp;asin=B01GP2D274 &quot;,&quot;restoreFocusOnHide&quot;:&quot;false&quot;}\">\n",
      "                                <i class=\"a-icon a-icon-star a-star-0 a-spacing-none\"><span class=\"a-icon-alt\">0 out of 5 stars</span></i>\n",
      "                            </span>\n",
      "                            <a class=\"a-link-normal\" target=\"_self\" rel=\"noopener\" href=\"/product-reviews/B01GP2D274/ref=psdc_7454935011_r1_B00023JSBM?_encoding=UTF8&amp;showViewpoints=1\">(0)</a>\n",
      "                            <span class=\"a-letter-space\"></span>\n",
      "                        </span>\n",
      "                    </td>\n",
      "                \n",
      "                    <td class=\"comparison_sim_items_column comparable_item1\">\n",
      "                        \n",
      "                        \n",
      "                        \n",
      "                        <span>\n",
      "                            <span class=\"a-declarative\" data-action=\"a-popover\" data-a-popover=\"{&quot;max-width&quot;:&quot;700&quot;,&quot;closeButton&quot;:&quot;false&quot;,&quot;position&quot;:&quot;triggerBottom&quot;,&quot;url&quot;:&quot; /gp/customer-reviews/widgets/average-customer-review/popover/ref=acr_dpComparsion__popover?contextId=dpComparsion&amp;asin=B0007ZDV1S &quot;,&quot;restoreFocusOnHide&quot;:&quot;false&quot;}\">\n",
      "                                <i class=\"a-icon a-icon-star a-star-0 a-spacing-none\"><span class=\"a-icon-alt\">0 out of 5 stars</span></i>\n",
      "                            </span>\n",
      "                            <a class=\"a-link-normal\" target=\"_self\" rel=\"noopener\" href=\"/product-reviews/B0007ZDV1S/ref=psdc_7454935011_r2_B00023JSBM?_encoding=UTF8&amp;showViewpoints=1\">(0)</a>\n",
      "                            <span class=\"a-letter-space\"></span>\n",
      "                        </span>\n",
      "                    </td>\n",
      "                \n",
      "                    <td class=\"comparison_sim_items_column comparable_item2\">\n",
      "                        \n",
      "                        \n",
      "                        \n",
      "                        <span>\n",
      "                            <span class=\"a-declarative\" data-action=\"a-popover\" data-a-popover=\"{&quot;max-width&quot;:&quot;700&quot;,&quot;closeButton&quot;:&quot;false&quot;,&quot;position&quot;:&quot;triggerBottom&quot;,&quot;url&quot;:&quot; /gp/customer-reviews/widgets/average-customer-review/popover/ref=acr_dpComparsion__popover?contextId=dpComparsion&amp;asin=B0007ZFX8C &quot;,&quot;restoreFocusOnHide&quot;:&quot;false&quot;}\">\n",
      "                                <i class=\"a-icon a-icon-star a-star-0 a-spacing-none\"><span class=\"a-icon-alt\">0 out of 5 stars</span></i>\n",
      "                            </span>\n",
      "                            <a class=\"a-link-normal\" target=\"_self\" rel=\"noopener\" href=\"/product-reviews/B0007ZFX8C/ref=psdc_7454935011_r3_B00023JSBM?_encoding=UTF8&amp;showViewpoints=1\">(0)</a>\n",
      "                            <span class=\"a-letter-space\"></span>\n",
      "                        </span>\n",
      "                    </td>\n",
      "                \n",
      "            </tr>\n",
      "\n",
      "\n",
      "            <tr id=\"comparison_price_row\">\n",
      "                <th class=\"comparison_attribute_name_column comparison_table_first_col\" role=\"rowheader\">\n",
      "                    <span class=\"a-size-base a-color-base\">Price</span>\n",
      "                </th>\n",
      "\n",
      "\n",
      "                <td class=\"comparison_baseitem_column\">\n",
      "                    \n",
      "                        \n",
      "                        \n",
      "                        \n",
      "                        \n",
      "                            \n",
      "                                \n",
      "                                    <span class=\"a-price\" data-a-size=\"l\" data-a-color=\"base\"><span class=\"a-offscreen\">$44.98</span><span aria-hidden=\"true\"><span class=\"a-price-symbol\">$</span><span class=\"a-price-whole\">44<span class=\"a-price-decimal\">\u0000</span></span><span class=\"a-price-fraction\">98</span></span></span>\n",
      "                                \n",
      "                                \n",
      "                            \n",
      "                        \n",
      "                    \n",
      "                </td>\n",
      "\n",
      "\n",
      "                \n",
      "                    <td class=\"comparison_sim_items_column comparable_item0\">\n",
      "                    \n",
      "                        \n",
      "                        \n",
      "                        \n",
      "                            \n",
      "                                \n",
      "                                    <span class=\"a-price\" data-a-size=\"l\" data-a-color=\"base\"><span class=\"a-offscreen\">$37.96</span><span aria-hidden=\"true\"><span class=\"a-price-symbol\">$</span><span class=\"a-price-whole\">37<span class=\"a-price-decimal\">\u0000</span></span><span class=\"a-price-fraction\">96</span></span></span>\n",
      "                                \n",
      "                                \n",
      "                            \n",
      "                        \n",
      "                    \n",
      "                    </td>\n",
      "                \n",
      "                    <td class=\"comparison_sim_items_column comparable_item1\">\n",
      "                    \n",
      "                        \n",
      "                        \n",
      "                        \n",
      "                            \n",
      "                                \n",
      "                                    <span class=\"a-price\" data-a-size=\"l\" data-a-color=\"base\"><span class=\"a-offscreen\">$21.12</span><span aria-hidden=\"true\"><span class=\"a-price-symbol\">$</span><span class=\"a-price-whole\">21<span class=\"a-price-decimal\">\u0000</span></span><span class=\"a-price-fraction\">12</span></span></span>\n",
      "                                \n",
      "                                \n",
      "                            \n",
      "                        \n",
      "                    \n",
      "                    </td>\n",
      "                \n",
      "                    <td class=\"comparison_sim_items_column comparable_item2\">\n",
      "                    \n",
      "                        \n",
      "                        \n",
      "                        \n",
      "                            \n",
      "                                \n",
      "                                    <span class=\"a-price\" data-a-size=\"l\" data-a-color=\"base\"><span class=\"a-offscreen\">$64.88</span><span aria-hidden=\"true\"><span class=\"a-price-symbol\">$</span><span class=\"a-price-whole\">64<span class=\"a-price-decimal\">\u0000</span></span><span class=\"a-price-fraction\">88</span></span></span>\n",
      "                                \n",
      "                                \n",
      "                            \n",
      "                        \n",
      "                    \n",
      "                    </td>\n",
      "                \n",
      "            </tr>\n",
      "\n",
      "\n",
      "    \n",
      "                <tr id=\"comparison_shipping_info_row\">\n",
      "                    <th class=\"comparison_attribute_name_column comparison_table_first_col\" role=\"rowheader\">\n",
      "                        <span class=\"a-size-base a-color-base\">Shipping</span>\n",
      "                    </th>\n",
      "\n",
      "    \n",
      "                    <td class=\"comparison_baseitem_column\">\n",
      "                        \n",
      "                            \n",
      "                            \n",
      "                            \n",
      "                            \n",
      "                            \n",
      "                            \n",
      "                                <span class=\"a-size-base a-color-price a-text-bold\">$4.99</span>\n",
      "                            \n",
      "                            \n",
      "                        \n",
      "                    </td>\n",
      "\n",
      "    \n",
      "                    \n",
      "                        <td class=\"comparison_sim_items_column comparable_item0\">\n",
      "                            \n",
      "                                \n",
      "                                \n",
      "                                    <span class=\"a-size-base a-color-base\">Eligible for FREE Shipping</span>\n",
      "                                \n",
      "                                \n",
      "                                \n",
      "                                \n",
      "                                \n",
      "                            \n",
      "                        </td>\n",
      "                    \n",
      "                        <td class=\"comparison_sim_items_column comparable_item1\">\n",
      "                            \n",
      "                                \n",
      "                                \n",
      "                                    <span class=\"a-size-base a-color-base\">Eligible for FREE Shipping</span>\n",
      "                                \n",
      "                                \n",
      "                                \n",
      "                                \n",
      "                                \n",
      "                            \n",
      "                        </td>\n",
      "                    \n",
      "                        <td class=\"comparison_sim_items_column comparable_item2\">\n",
      "                            \n",
      "                                \n",
      "                                \n",
      "                                    <span class=\"a-size-base a-color-base\">Eligible for FREE Shipping</span>\n",
      "                                \n",
      "                                \n",
      "                                \n",
      "                                \n",
      "                                \n",
      "                            \n",
      "                        </td>\n",
      "                    \n",
      "                </tr>\n",
      "\n",
      "\n",
      "\n",
      "            <tr id=\"comparison_sold_by_row\">\n",
      "                <th class=\"comparison_attribute_name_column comparison_table_first_col\" role=\"rowheader\">\n",
      "                    <span class=\"a-size-base a-color-base\">Sold By</span>\n",
      "                </th>\n",
      "\n",
      "  \n",
      "                <td class=\"comparison_baseitem_column\">\n",
      "                    \n",
      "                        \n",
      "                        \n",
      "                        \n",
      "                            <a class=\"a-spacing-top-small a-link-normal\" target=\"_self\" rel=\"noopener\" href=\"/gp/help/seller/at-a-glance.html/ref=psdc_7454935011_s0_B00023JSBM?ie=UTF8&amp;seller=A2HSPHF972NM5W\">Silver Insanity</a>\n",
      "                        \n",
      "                     \n",
      "                </td>\n",
      "\n",
      "\n",
      "                \n",
      "                    <td class=\"comparison_sim_items_column comparable_item0\">\n",
      "                         \n",
      "                            \n",
      "                         \n",
      "                             <a class=\"a-spacing-top-small a-link-normal\" target=\"_self\" rel=\"noopener\" href=\"/gp/help/seller/at-a-glance.html/ref=psdc_7454935011_s1_B00023JSBM?ie=UTF8&amp;seller=AMUWF26Y4VIFP\">Marchello And Co</a>\n",
      "                         \n",
      "                         \n",
      "                     </td>\n",
      "                \n",
      "                    <td class=\"comparison_sim_items_column comparable_item1\">\n",
      "                         \n",
      "                            \n",
      "                         \n",
      "                             <a class=\"a-spacing-top-small a-link-normal\" target=\"_self\" rel=\"noopener\" href=\"/gp/help/seller/at-a-glance.html/ref=psdc_7454935011_s2_B00023JSBM?ie=UTF8&amp;seller=A2LPCXI4JWH6NE\">Sabrina Silver</a>\n",
      "                         \n",
      "                         \n",
      "                     </td>\n",
      "                \n",
      "                    <td class=\"comparison_sim_items_column comparable_item2\">\n",
      "                         \n",
      "                            \n",
      "                         \n",
      "                             <a class=\"a-spacing-top-small a-link-normal\" target=\"_self\" rel=\"noopener\" href=\"/gp/help/seller/at-a-glance.html/ref=psdc_7454935011_s3_B00023JSBM?ie=UTF8&amp;seller=A2LPCXI4JWH6NE\">Sabrina Silver</a>\n",
      "                         \n",
      "                         \n",
      "                     </td>\n",
      "                \n",
      "             </tr>\n",
      "\n",
      "\n",
      "            \n",
      "                <tr>\n",
      "                    <th class=\"a-span3 comparison_attribute_name_column comparison_table_first_col\" role=\"rowheader\">\n",
      "                        <span class=\"a-size-base a-color-base\">Chain Type</span>\n",
      "                    </th>\n",
      "                    \n",
      "\n",
      "                    <td class=\"comparison_baseitem_column\">\n",
      "                     \n",
      "                        \n",
      "                            \n",
      "                                 <span class=\"a-color-secondary\"></span>\n",
      "                            \n",
      "                            \n",
      "                        \n",
      "                    </td>\n",
      "\n",
      "\n",
      "                    \n",
      "                        <td class=\"comparison_sim_items_column comparable_item0\">\n",
      "                            \n",
      "                            \n",
      "                            \n",
      "                               \n",
      "                                  \n",
      "                                  \n",
      "                                      <span class=\"a-size-base a-color-base\">no-chain-type</span>\n",
      "                                  \n",
      "                               \n",
      "                        </td>\n",
      "                    \n",
      "                        <td class=\"comparison_sim_items_column comparable_item1\">\n",
      "                            \n",
      "                            \n",
      "                            \n",
      "                               \n",
      "                                  \n",
      "                                      <span class=\"a-color-secondary\"></span>\n",
      "                                  \n",
      "                                  \n",
      "                               \n",
      "                        </td>\n",
      "                    \n",
      "                        <td class=\"comparison_sim_items_column comparable_item2\">\n",
      "                            \n",
      "                            \n",
      "                            \n",
      "                               \n",
      "                                  \n",
      "                                      <span class=\"a-color-secondary\"></span>\n",
      "                                  \n",
      "                                  \n",
      "                               \n",
      "                        </td>\n",
      "                    \n",
      "                </tr>\n",
      "            \n",
      "                <tr>\n",
      "                    <th class=\"a-span3 comparison_attribute_name_column comparison_table_first_col\" role=\"rowheader\">\n",
      "                        <span class=\"a-size-base a-color-base\">Clasp Type</span>\n",
      "                    </th>\n",
      "                    \n",
      "\n",
      "                    <td class=\"comparison_baseitem_column\">\n",
      "                     \n",
      "                        \n",
      "                            \n",
      "                                 <span class=\"a-color-secondary\"></span>\n",
      "                            \n",
      "                            \n",
      "                        \n",
      "                    </td>\n",
      "\n",
      "\n",
      "                    \n",
      "                        <td class=\"comparison_sim_items_column comparable_item0\">\n",
      "                            \n",
      "                            \n",
      "                            \n",
      "                               \n",
      "                                  \n",
      "                                  \n",
      "                                      <span class=\"a-size-base a-color-base\">no-clasp-type</span>\n",
      "                                  \n",
      "                               \n",
      "                        </td>\n",
      "                    \n",
      "                        <td class=\"comparison_sim_items_column comparable_item1\">\n",
      "                            \n",
      "                            \n",
      "                            \n",
      "                               \n",
      "                                  \n",
      "                                      <span class=\"a-color-secondary\"></span>\n",
      "                                  \n",
      "                                  \n",
      "                               \n",
      "                        </td>\n",
      "                    \n",
      "                        <td class=\"comparison_sim_items_column comparable_item2\">\n",
      "                            \n",
      "                            \n",
      "                            \n",
      "                               \n",
      "                                  \n",
      "                                      <span class=\"a-color-secondary\"></span>\n",
      "                                  \n",
      "                                  \n",
      "                               \n",
      "                        </td>\n",
      "                    \n",
      "                </tr>\n",
      "            \n",
      "                <tr>\n",
      "                    <th class=\"a-span3 comparison_attribute_name_column comparison_table_first_col\" role=\"rowheader\">\n",
      "                        <span class=\"a-size-base a-color-base\">Color</span>\n",
      "                    </th>\n",
      "                    \n",
      "\n",
      "                    <td class=\"comparison_baseitem_column\">\n",
      "                     \n",
      "                        \n",
      "                            \n",
      "                            \n",
      "                                 <span class=\"a-size-base a-color-base\">Silver</span>\n",
      "                            \n",
      "                        \n",
      "                    </td>\n",
      "\n",
      "\n",
      "                    \n",
      "                        <td class=\"comparison_sim_items_column comparable_item0\">\n",
      "                            \n",
      "                            \n",
      "                            \n",
      "                               \n",
      "                                  \n",
      "                                  \n",
      "                                      <span class=\"a-size-base a-color-base\">Silver</span>\n",
      "                                  \n",
      "                               \n",
      "                        </td>\n",
      "                    \n",
      "                        <td class=\"comparison_sim_items_column comparable_item1\">\n",
      "                            \n",
      "                            \n",
      "                            \n",
      "                               \n",
      "                                  \n",
      "                                  \n",
      "                                      <span class=\"a-size-base a-color-base\">Silver</span>\n",
      "                                  \n",
      "                               \n",
      "                        </td>\n",
      "                    \n",
      "                        <td class=\"comparison_sim_items_column comparable_item2\">\n",
      "                            \n",
      "                            \n",
      "                            \n",
      "                               \n",
      "                                  \n",
      "                                  \n",
      "                                      <span class=\"a-size-base a-color-base\">Silver</span>\n",
      "                                  \n",
      "                               \n",
      "                        </td>\n",
      "                    \n",
      "                </tr>\n",
      "            \n",
      "                <tr>\n",
      "                    <th class=\"a-span3 comparison_attribute_name_column comparison_table_first_col\" role=\"rowheader\">\n",
      "                        <span class=\"a-size-base a-color-base\">Material Type</span>\n",
      "                    </th>\n",
      "                    \n",
      "\n",
      "                    <td class=\"comparison_baseitem_column\">\n",
      "                     \n",
      "                        \n",
      "                            \n",
      "                            \n",
      "                                 <span class=\"a-size-base a-color-base\">metal</span>\n",
      "                            \n",
      "                        \n",
      "                    </td>\n",
      "\n",
      "\n",
      "                    \n",
      "                        <td class=\"comparison_sim_items_column comparable_item0\">\n",
      "                            \n",
      "                            \n",
      "                            \n",
      "                               \n",
      "                                  \n",
      "                                      <span class=\"a-color-secondary\"></span>\n",
      "                                  \n",
      "                                  \n",
      "                               \n",
      "                        </td>\n",
      "                    \n",
      "                        <td class=\"comparison_sim_items_column comparable_item1\">\n",
      "                            \n",
      "                            \n",
      "                            \n",
      "                               \n",
      "                                  \n",
      "                                  \n",
      "                                      <span class=\"a-size-base a-color-base\">metal</span>\n",
      "                                  \n",
      "                               \n",
      "                        </td>\n",
      "                    \n",
      "                        <td class=\"comparison_sim_items_column comparable_item2\">\n",
      "                            \n",
      "                            \n",
      "                            \n",
      "                               \n",
      "                                  \n",
      "                                  \n",
      "                                      <span class=\"a-size-base a-color-base\">metal</span>\n",
      "                                  \n",
      "                               \n",
      "                        </td>\n",
      "                    \n",
      "                </tr>\n",
      "            \n",
      "                <tr>\n",
      "                    <th class=\"a-span3 comparison_attribute_name_column comparison_table_first_col\" role=\"rowheader\">\n",
      "                        <span class=\"a-size-base a-color-base\">Metal Stamp</span>\n",
      "                    </th>\n",
      "                    \n",
      "\n",
      "                    <td class=\"comparison_baseitem_column\">\n",
      "                     \n",
      "                        \n",
      "                            \n",
      "                            \n",
      "                                 <span class=\"a-size-base a-color-base\">925-Sterling</span>\n",
      "                            \n",
      "                        \n",
      "                    </td>\n",
      "\n",
      "\n",
      "                    \n",
      "                        <td class=\"comparison_sim_items_column comparable_item0\">\n",
      "                            \n",
      "                            \n",
      "                            \n",
      "                               \n",
      "                                  \n",
      "                                  \n",
      "                                      <span class=\"a-size-base a-color-base\">925-Sterling</span>\n",
      "                                  \n",
      "                               \n",
      "                        </td>\n",
      "                    \n",
      "                        <td class=\"comparison_sim_items_column comparable_item1\">\n",
      "                            \n",
      "                            \n",
      "                            \n",
      "                               \n",
      "                                  \n",
      "                                  \n",
      "                                      <span class=\"a-size-base a-color-base\">925-Sterling</span>\n",
      "                                  \n",
      "                               \n",
      "                        </td>\n",
      "                    \n",
      "                        <td class=\"comparison_sim_items_column comparable_item2\">\n",
      "                            \n",
      "                            \n",
      "                            \n",
      "                               \n",
      "                                  \n",
      "                                  \n",
      "                                      <span class=\"a-size-base a-color-base\">925-Sterling</span>\n",
      "                                  \n",
      "                               \n",
      "                        </td>\n",
      "                    \n",
      "                </tr>\n",
      "            \n",
      "                <tr>\n",
      "                    <th class=\"a-span3 comparison_attribute_name_column comparison_table_first_col\" role=\"rowheader\">\n",
      "                        <span class=\"a-size-base a-color-base\">Metal Type</span>\n",
      "                    </th>\n",
      "                    \n",
      "\n",
      "                    <td class=\"comparison_baseitem_column\">\n",
      "                     \n",
      "                        \n",
      "                            \n",
      "                            \n",
      "                                 <span class=\"a-size-base a-color-base\">sterling-silver</span>\n",
      "                            \n",
      "                        \n",
      "                    </td>\n",
      "\n",
      "\n",
      "                    \n",
      "                        <td class=\"comparison_sim_items_column comparable_item0\">\n",
      "                            \n",
      "                            \n",
      "                            \n",
      "                               \n",
      "                                  \n",
      "                                  \n",
      "                                      <span class=\"a-size-base a-color-base\">sterling-silver</span>\n",
      "                                  \n",
      "                               \n",
      "                        </td>\n",
      "                    \n",
      "                        <td class=\"comparison_sim_items_column comparable_item1\">\n",
      "                            \n",
      "                            \n",
      "                            \n",
      "                               \n",
      "                                  \n",
      "                                  \n",
      "                                      <span class=\"a-size-base a-color-base\">sterling-silver</span>\n",
      "                                  \n",
      "                               \n",
      "                        </td>\n",
      "                    \n",
      "                        <td class=\"comparison_sim_items_column comparable_item2\">\n",
      "                            \n",
      "                            \n",
      "                            \n",
      "                               \n",
      "                                  \n",
      "                                  \n",
      "                                      <span class=\"a-size-base a-color-base\">sterling-silver</span>\n",
      "                                  \n",
      "                               \n",
      "                        </td>\n",
      "                    \n",
      "                </tr>\n",
      "            \n",
      "                <tr>\n",
      "                    <th class=\"a-span3 comparison_attribute_name_column comparison_table_first_col\" role=\"rowheader\">\n",
      "                        <span class=\"a-size-base a-color-base\">Primary Stone Gem Type</span>\n",
      "                    </th>\n",
      "                    \n",
      "\n",
      "                    <td class=\"comparison_baseitem_column\">\n",
      "                     \n",
      "                        \n",
      "                            \n",
      "                            \n",
      "                                 <span class=\"a-size-base a-color-base\">NA</span>\n",
      "                            \n",
      "                        \n",
      "                    </td>\n",
      "\n",
      "\n",
      "                    \n",
      "                        <td class=\"comparison_sim_items_column comparable_item0\">\n",
      "                            \n",
      "                            \n",
      "                            \n",
      "                               \n",
      "                                  \n",
      "                                  \n",
      "                                      <span class=\"a-size-base a-color-base\">NA</span>\n",
      "                                  \n",
      "                               \n",
      "                        </td>\n",
      "                    \n",
      "                        <td class=\"comparison_sim_items_column comparable_item1\">\n",
      "                            \n",
      "                            \n",
      "                            \n",
      "                               \n",
      "                                  \n",
      "                                  \n",
      "                                      <span class=\"a-size-base a-color-base\">NA</span>\n",
      "                                  \n",
      "                               \n",
      "                        </td>\n",
      "                    \n",
      "                        <td class=\"comparison_sim_items_column comparable_item2\">\n",
      "                            \n",
      "                            \n",
      "                            \n",
      "                               \n",
      "                                  \n",
      "                                  \n",
      "                                      <span class=\"a-size-base a-color-base\">NA</span>\n",
      "                                  \n",
      "                               \n",
      "                        </td>\n",
      "                    \n",
      "                </tr>\n",
      "            \n",
      "                <tr>\n",
      "                    <th class=\"a-span3 comparison_attribute_name_column comparison_table_first_col\" role=\"rowheader\">\n",
      "                        <span class=\"a-size-base a-color-base\">Total Metal Weight</span>\n",
      "                    </th>\n",
      "                    \n",
      "\n",
      "                    <td class=\"comparison_baseitem_column\">\n",
      "                     \n",
      "                        \n",
      "                            \n",
      "                                 <span class=\"a-color-secondary\"></span>\n",
      "                            \n",
      "                            \n",
      "                        \n",
      "                    </td>\n",
      "\n",
      "\n",
      "                    \n",
      "                        <td class=\"comparison_sim_items_column comparable_item0\">\n",
      "                            \n",
      "                            \n",
      "                            \n",
      "                               \n",
      "                                  \n",
      "                                  \n",
      "                                      <span class=\"a-size-base a-color-base\">2 grams</span>\n",
      "                                  \n",
      "                               \n",
      "                        </td>\n",
      "                    \n",
      "                        <td class=\"comparison_sim_items_column comparable_item1\">\n",
      "                            \n",
      "                            \n",
      "                            \n",
      "                               \n",
      "                                  \n",
      "                                      <span class=\"a-color-secondary\"></span>\n",
      "                                  \n",
      "                                  \n",
      "                               \n",
      "                        </td>\n",
      "                    \n",
      "                        <td class=\"comparison_sim_items_column comparable_item2\">\n",
      "                            \n",
      "                            \n",
      "                            \n",
      "                               \n",
      "                                  \n",
      "                                      <span class=\"a-color-secondary\"></span>\n",
      "                                  \n",
      "                                  \n",
      "                               \n",
      "                        </td>\n",
      "                    \n",
      "                </tr>\n",
      "            \n",
      "       \n"
     ]
    }
   ],
   "source": [
    "html_text = prod_with_similar[15]\n",
    "print(html_text)"
   ]
  },
  {
   "cell_type": "code",
   "execution_count": 11,
   "id": "cdb7dca4",
   "metadata": {
    "hidden": true
   },
   "outputs": [],
   "source": [
    "soup = BeautifulSoup(html_text, 'html.parser')"
   ]
  },
  {
   "cell_type": "code",
   "execution_count": 12,
   "id": "ee471612",
   "metadata": {
    "hidden": true
   },
   "outputs": [],
   "source": [
    "header = soup.find('tr')"
   ]
  },
  {
   "cell_type": "code",
   "execution_count": 13,
   "id": "111eec96",
   "metadata": {
    "hidden": true
   },
   "outputs": [
    {
     "name": "stdout",
     "output_type": "stream",
     "text": [
      "<span aria-hidden=\"true\" class=\"a-size-base a-color-base a-text-bold\">\n",
      "                                This item\n",
      "                            </span>\n",
      "<span class=\"a-size-base\">.925 Sterling Silver Whistle Charm Pendant</span>\n",
      "<span class=\"a-size-base\">Sterling Silver Chihuahuas Dog Pendant</span>\n",
      "<span class=\"a-size-base\">Sterling Silver Chihuahuas Dog Pendant</span>\n"
     ]
    }
   ],
   "source": [
    "for th in header.find_all('th'):\n",
    "    product_html = th.find('span')\n",
    "    print(product_html)"
   ]
  },
  {
   "cell_type": "code",
   "execution_count": 14,
   "id": "1be6ccc6",
   "metadata": {
    "hidden": true
   },
   "outputs": [
    {
     "name": "stdout",
     "output_type": "stream",
     "text": [
      ".925 Sterling Silver Whistle Charm Pendant\n",
      "Sterling Silver Chihuahuas Dog Pendant\n",
      "Sterling Silver Chihuahuas Dog Pendant\n"
     ]
    }
   ],
   "source": [
    "for th in header.find_all('th'):\n",
    "    product_html = th.find('span')\n",
    "    if len(product_html['class']) == 1 and product_html['class'][0] == 'a-size-base':\n",
    "        print(product_html.get_text())"
   ]
  },
  {
   "cell_type": "markdown",
   "id": "268cb16c",
   "metadata": {
    "hidden": true
   },
   "source": [
    "### Code"
   ]
  },
  {
   "cell_type": "code",
   "execution_count": 5,
   "id": "30a56ad4",
   "metadata": {
    "code_folding": [
     0
    ],
    "hidden": true
   },
   "outputs": [],
   "source": [
    "def extract_similar_items(html_text):\n",
    "    soup = BeautifulSoup(html_text, 'html.parser')\n",
    "    header = soup.find('tr')\n",
    "    \n",
    "    similar_products = []\n",
    "    \n",
    "    if header:\n",
    "        for th in header.find_all('th'):\n",
    "            product_html = th.find('span')\n",
    "            if len(product_html['class']) == 1 and product_html['class'][0] == 'a-size-base':\n",
    "                similar_products.append(product_html.get_text())\n",
    "                \n",
    "    return similar_products\n"
   ]
  },
  {
   "cell_type": "code",
   "execution_count": 13,
   "id": "db7f3ed2",
   "metadata": {
    "hidden": true
   },
   "outputs": [
    {
     "data": {
      "text/plain": [
       "['.925 Sterling Silver Whistle Charm Pendant',\n",
       " 'Sterling Silver Chihuahuas Dog Pendant',\n",
       " 'Sterling Silver Chihuahuas Dog Pendant']"
      ]
     },
     "execution_count": 13,
     "metadata": {},
     "output_type": "execute_result"
    }
   ],
   "source": [
    "extract_similar_items(html_text)"
   ]
  },
  {
   "cell_type": "code",
   "execution_count": 14,
   "id": "03997937",
   "metadata": {
    "hidden": true
   },
   "outputs": [
    {
     "data": {
      "text/plain": [
       "[]"
      ]
     },
     "execution_count": 14,
     "metadata": {},
     "output_type": "execute_result"
    }
   ],
   "source": [
    "extract_similar_items('')"
   ]
  },
  {
   "cell_type": "markdown",
   "id": "c6c96fd9",
   "metadata": {},
   "source": [
    "## AmazonGraph"
   ]
  },
  {
   "cell_type": "code",
   "execution_count": 122,
   "id": "40d1ca23",
   "metadata": {
    "code_folding": [
     0,
     5,
     9,
     18,
     27,
     42,
     54
    ]
   },
   "outputs": [],
   "source": [
    "class AmazonGraph:\n",
    "\n",
    "    def __init__(self):\n",
    "        self.graph = {}\n",
    "        \n",
    "    def add_product(self, prod_id, products):\n",
    "        products, counts = np.unique(products, return_counts=True)\n",
    "        self.graph[prod_id] = (products.tolist(), counts.tolist())\n",
    "        \n",
    "    def save_data(self, save_dir, tag=''):\n",
    "        os.makedirs(save_dir, exist_ok=True)\n",
    "        filename = f'{save_dir}/amazon_graph{tag}.pickle'\n",
    "        with open(filename, 'wb') as f:\n",
    "            pickle.dump(self.graph, f)\n",
    "            \n",
    "        del self.graph\n",
    "        gc.collect()\n",
    "            \n",
    "    def load_data(self, save_dir, tag=''):\n",
    "        filename = f'{save_dir}/amazon_graph{tag}.pickle'\n",
    "        if os.path.exists(filename):\n",
    "            with open(filename, 'rb') as f:\n",
    "                self.graph = pickle.load(f)\n",
    "            return True\n",
    "        print(f\"ERROR:: Unable to load the graph at '{filename}'\")\n",
    "        return False\n",
    "    \n",
    "    def replace_duplicates(self, duplicates):\n",
    "        delete_nodes = []\n",
    "\n",
    "        for node in self.graph:\n",
    "            if node in duplicates:\n",
    "                delete_nodes.append(node)\n",
    "            \n",
    "            for i, (edge, count) in enumerate( zip(*self.graph[node]) ):\n",
    "                if edge in duplicates:\n",
    "                    self.graph[node][0][i] = duplicates[edge]\n",
    "\n",
    "        for node in delete_nodes:\n",
    "            self.graph[duplicates[node]] = self.graph[node]\n",
    "            del self.graph[node]\n",
    "            \n",
    "    def convert_graph(self):\n",
    "        if len(self.graph) and isinstance(self.graph, dict):\n",
    "            key = list(self.graph.keys())[0]\n",
    "            if isinstance(self.graph[key], tuple):\n",
    "                for doc, (edges, counts) in self.graph.items():\n",
    "                    self.graph[doc] = {e:c for e, c in zip(edges, counts)}\n",
    "            elif isinstance(self.graph[key], dict):\n",
    "                for doc, edge_count in self.graph.items():\n",
    "                    self.graph[doc] = (list(edge_count.keys()), list(edge_count.values()))\n",
    "            else:\n",
    "                raise Exception(\"Invalid graph format.\")\n",
    "                \n",
    "    def remove_dead(self, id_to_title):\n",
    "        delete_nodes = []\n",
    "        for product_id, (edges, counts) in self.graph.items():\n",
    "            active_edges = list()\n",
    "            active_counts = list()\n",
    "            \n",
    "            if product_id in id_to_title and id_to_title[product_id]:\n",
    "                while edges:\n",
    "                    edge = edges.pop()\n",
    "                    count = counts.pop()\n",
    "\n",
    "                    if edge in id_to_title and id_to_title[edge]:\n",
    "                        active_edges.append(edge)\n",
    "                        active_counts.append(count)\n",
    "\n",
    "                if len(active_edges):\n",
    "                    self.graph[product_id] = (active_edges, active_counts)\n",
    "                else:\n",
    "                    delete_nodes.append(product_id)\n",
    "            else:\n",
    "                delete_nodes.append(product_id)\n",
    "        \n",
    "        for node in delete_nodes:\n",
    "            del self.graph[node]\n",
    "        return None\n",
    "    "
   ]
  },
  {
   "cell_type": "markdown",
   "id": "f4ad6d80",
   "metadata": {
    "heading_collapsed": true
   },
   "source": [
    "### Testing"
   ]
  },
  {
   "cell_type": "code",
   "execution_count": 108,
   "id": "63d21d09",
   "metadata": {
    "hidden": true
   },
   "outputs": [],
   "source": [
    "g = AmazonGraph()"
   ]
  },
  {
   "cell_type": "markdown",
   "id": "13e7d4e4",
   "metadata": {
    "hidden": true
   },
   "source": [
    "#### add_product"
   ]
  },
  {
   "cell_type": "code",
   "execution_count": 114,
   "id": "bc731a56",
   "metadata": {
    "hidden": true
   },
   "outputs": [],
   "source": [
    "g.add_product(1, [1, 1, 2, 3, 4, 4, 4, 5, 8, 99])\n",
    "g.add_product(2, [2, 3, 44, 55, 55, 66, 11])\n",
    "g.add_product(3, [1, 2])"
   ]
  },
  {
   "cell_type": "code",
   "execution_count": 115,
   "id": "20a16319",
   "metadata": {
    "hidden": true
   },
   "outputs": [
    {
     "data": {
      "text/plain": [
       "{1: ([1, 2, 3, 4, 5, 8, 99], [2, 1, 1, 3, 1, 1, 1]),\n",
       " 2: ([2, 3, 11, 44, 55, 66], [1, 1, 1, 1, 2, 1]),\n",
       " 3: ([1, 2], [1, 1])}"
      ]
     },
     "execution_count": 115,
     "metadata": {},
     "output_type": "execute_result"
    }
   ],
   "source": [
    "g.graph"
   ]
  },
  {
   "cell_type": "code",
   "execution_count": 119,
   "id": "05b0b04b",
   "metadata": {
    "hidden": true
   },
   "outputs": [],
   "source": [
    "id_to_title = {1:'a', 2:'b', 3:'', 5:'d', 99:'e', 11:'f'}"
   ]
  },
  {
   "cell_type": "code",
   "execution_count": 120,
   "id": "c20e4a01",
   "metadata": {
    "hidden": true
   },
   "outputs": [],
   "source": [
    "g.remove_dead(id_to_title)"
   ]
  },
  {
   "cell_type": "code",
   "execution_count": 121,
   "id": "51e6bca0",
   "metadata": {
    "hidden": true
   },
   "outputs": [
    {
     "data": {
      "text/plain": [
       "{1: ([1, 2, 5, 99], [2, 1, 1, 1]), 2: ([2, 11], [1, 1])}"
      ]
     },
     "execution_count": 121,
     "metadata": {},
     "output_type": "execute_result"
    }
   ],
   "source": [
    "g.graph"
   ]
  },
  {
   "cell_type": "markdown",
   "id": "d7b21890",
   "metadata": {
    "heading_collapsed": true,
    "hidden": true
   },
   "source": [
    "#### save and load"
   ]
  },
  {
   "cell_type": "code",
   "execution_count": 21,
   "id": "99f25f83",
   "metadata": {
    "hidden": true
   },
   "outputs": [],
   "source": [
    "g.save_data(f'{dataset_home}/trial', tag='t')"
   ]
  },
  {
   "cell_type": "code",
   "execution_count": 25,
   "id": "c7e811da",
   "metadata": {
    "hidden": true
   },
   "outputs": [
    {
     "data": {
      "text/plain": [
       "True"
      ]
     },
     "execution_count": 25,
     "metadata": {},
     "output_type": "execute_result"
    }
   ],
   "source": [
    "new_g = AmazonGraph()\n",
    "new_g.load_data(f'{dataset_home}/trial', tag='t')"
   ]
  },
  {
   "cell_type": "code",
   "execution_count": 26,
   "id": "49358d65",
   "metadata": {
    "hidden": true
   },
   "outputs": [
    {
     "data": {
      "text/plain": [
       "{100: ([1, 2, 3, 4, 5, 8, 99], [2, 1, 1, 3, 1, 1, 1]),\n",
       " 200: ([2, 3, 11, 44, 55, 66], [1, 1, 1, 1, 2, 1]),\n",
       " 300: ([133, 144, 199], [2, 1, 1])}"
      ]
     },
     "execution_count": 26,
     "metadata": {},
     "output_type": "execute_result"
    }
   ],
   "source": [
    "new_g.graph"
   ]
  },
  {
   "cell_type": "markdown",
   "id": "83498042",
   "metadata": {
    "heading_collapsed": true,
    "hidden": true
   },
   "source": [
    "#### convert graph"
   ]
  },
  {
   "cell_type": "code",
   "execution_count": 31,
   "id": "8e300cc3",
   "metadata": {
    "hidden": true
   },
   "outputs": [],
   "source": [
    "g.convert_graph()"
   ]
  },
  {
   "cell_type": "code",
   "execution_count": 32,
   "id": "76e6bd31",
   "metadata": {
    "hidden": true
   },
   "outputs": [
    {
     "data": {
      "text/plain": [
       "{100: {1: 2, 2: 1, 3: 1, 4: 3, 5: 1, 8: 1, 99: 1},\n",
       " 200: {2: 1, 3: 1, 11: 1, 44: 1, 55: 2, 66: 1},\n",
       " 300: {133: 2, 144: 1, 199: 1}}"
      ]
     },
     "execution_count": 32,
     "metadata": {},
     "output_type": "execute_result"
    }
   ],
   "source": [
    "g.graph"
   ]
  },
  {
   "cell_type": "markdown",
   "id": "e03ef265",
   "metadata": {},
   "source": [
    "## AmazonGraphContainer"
   ]
  },
  {
   "cell_type": "code",
   "execution_count": 123,
   "id": "f9ee79d8",
   "metadata": {
    "code_folding": [
     0
    ]
   },
   "outputs": [],
   "source": [
    "def parse(path):\n",
    "    g = gzip.open(path, 'rb')\n",
    "    for l in g:\n",
    "        yield json.loads(l)\n",
    "        "
   ]
  },
  {
   "cell_type": "code",
   "execution_count": 124,
   "id": "c1121a77",
   "metadata": {
    "code_folding": [
     0,
     2,
     21,
     31,
     41,
     65,
     84,
     94,
     100,
     106,
     113,
     120,
     127,
     134,
     140,
     148,
     156
    ]
   },
   "outputs": [],
   "source": [
    "class AmazonGraphContainer:\n",
    "    \n",
    "    def __init__(self):\n",
    "        \"\"\"\n",
    "        Amazon graphs.\n",
    "        \"\"\"\n",
    "        self.graphs = {}\n",
    "        self.graphs['similar'] = AmazonGraph()\n",
    "        self.graphs['also_buy'] = AmazonGraph()\n",
    "        self.graphs['also_view'] = AmazonGraph()\n",
    "        \n",
    "        \"\"\"\n",
    "        Map from prod_id to title.\n",
    "        \"\"\"\n",
    "        self.id_to_title = {}\n",
    "        \n",
    "        \"\"\"\n",
    "        Store product description.\n",
    "        \"\"\"\n",
    "        self.description = {}\n",
    "        \n",
    "    def convert_graph(self, graph_type=\"all\"):\n",
    "        graph_types = []\n",
    "        if graph_type == \"all\":\n",
    "            graph_types = ['similar', 'also_buy', 'also_view']\n",
    "        else:\n",
    "            graph_types.append(graph_type)\n",
    "        \n",
    "        for graph_type in graph_types:\n",
    "            self.graphs[graph_type].convert_graph()\n",
    "            \n",
    "    def remove_dead(self, graph_type=\"all\"):\n",
    "        graph_types = []\n",
    "        if graph_type == \"all\":\n",
    "            graph_types = ['similar', 'also_buy', 'also_view']\n",
    "        else:\n",
    "            graph_types.append(graph_type)\n",
    "        \n",
    "        for graph_type in graph_types:\n",
    "            self.graphs[graph_type].remove_dead(self.id_to_title)\n",
    "            \n",
    "    def create_graph(self, filename, limit=None):\n",
    "        \n",
    "        for i, product in enumerate(parse(filename)):\n",
    "            \n",
    "            similar_items = extract_similar_items(product['similar_item'])\n",
    "            \n",
    "            if (len(product['also_view']) or len(product['also_buy']) or len(similar_items)) \\\n",
    "            and len(product['title']) and len(product['asin']):\n",
    "                product_id = product['asin']\n",
    "                \n",
    "                self.id_to_title[product_id] = product['title']\n",
    "                \n",
    "                if len(product['also_view']):\n",
    "                    self.graphs['also_view'].add_product(product_id, product['also_view'])\n",
    "                if len(product['also_buy']):\n",
    "                    self.graphs['also_buy'].add_product(product_id, product['also_buy'])\n",
    "                if len(similar_items):\n",
    "                    self.graphs['similar'].add_product(product_id, similar_items)\n",
    "                if len(product['description']):\n",
    "                    self.description[product_id] = product['description']\n",
    "                \n",
    "            if limit is not None and i > limit:\n",
    "                break\n",
    "                \n",
    "    def replace_similar_graph_titles(self):\n",
    "        nodes_to_delete = []\n",
    "        title_to_id = { product_title:product_id for product_id, product_title in self.id_to_title.items() }\n",
    "        \n",
    "        for node, (title_edges, count_edges) in self.graphs['similar'].graph.items():\n",
    "            id_edges, new_count_edges = [], []\n",
    "            for i, edge in enumerate(title_edges):\n",
    "                if edge in title_to_id:\n",
    "                    id_edges.append(title_to_id[edge])\n",
    "                    new_count_edges.append(count_edges[i])\n",
    "\n",
    "            if not len(id_edges):\n",
    "                nodes_to_delete.append(node)\n",
    "            else:\n",
    "                self.graphs['similar'].graph[node] = (id_edges, new_count_edges)\n",
    "\n",
    "        for node in nodes_to_delete:\n",
    "            del self.graphs['similar'].graph[node]\n",
    "            \n",
    "    def replace_graph_duplicates(self, duplicates, graph_type='all'):\n",
    "        graph_types = []\n",
    "        if graph_type == \"all\":\n",
    "            graph_types = ['similar', 'also_buy', 'also_view']\n",
    "        else:\n",
    "            graph_types.append(graph_type)\n",
    "        \n",
    "        for graph_type in graph_types:\n",
    "            self.graphs[graph_type].replace_duplicates(duplicates)\n",
    "                \n",
    "    def save_graph(self, save_dir, tag='', graph_type='similar'):\n",
    "        if graph_type != 'similar' and graph_type != 'also_buy' and graph_type != 'also_view':\n",
    "            raise Exception(\"graph_type should be in ['similar', 'also_buy', 'also_view']\")\n",
    "            \n",
    "        self.graphs[graph_type].save_data(save_dir, tag=f'_{graph_type}{tag}')\n",
    "            \n",
    "    def save_graphs(self, save_dir, tag=''):\n",
    "        graph_types = ['similar', 'also_view', 'also_buy']\n",
    "        \n",
    "        for graph_type in graph_types:\n",
    "            self.save_graph(save_dir, tag=tag, graph_type=graph_type)\n",
    "              \n",
    "    def save_idtotitle(self, save_dir, tag=''):\n",
    "        map_file = f'{save_dir}/id_to_title{tag}.pickle'\n",
    "        with open(map_file, 'wb') as f:\n",
    "            pickle.dump(self.id_to_title, f)   \n",
    "        del self.id_to_title\n",
    "        gc.collect()\n",
    "            \n",
    "    def save_description(self, save_dir, tag=''):\n",
    "        content_file = f'{save_dir}/description{tag}.pickle'\n",
    "        with open(content_file, 'wb') as f:\n",
    "            pickle.dump(self.description, f)\n",
    "        del self.description\n",
    "        gc.collect()\n",
    "        \n",
    "    def save_data(self, save_dir, tag=''):\n",
    "        os.makedirs(save_dir, exist_ok=True)\n",
    "        \n",
    "        self.save_graphs(save_dir, tag)\n",
    "        self.save_idtotitle(save_dir, tag)\n",
    "        self.save_description(save_dir, tag)\n",
    "            \n",
    "    def load_graph(self, save_dir, tag='', graph_type='similar'):\n",
    "        if graph_type != 'similar' and graph_type != 'also_buy' and graph_type != 'also_view':\n",
    "            raise Exception(\"graph_type should be in ['similar', 'also_buy', 'also_view']\")\n",
    "            \n",
    "        if not self.graphs[graph_type].load_data(save_dir, tag=f'_{graph_type}{tag}'):\n",
    "            raise Exception(f\"Unable to load '{graph_type} graph'.\")\n",
    "                \n",
    "    def load_graphs(self, save_dir, tag=''):\n",
    "        graph_types = ['similar', 'also_view', 'also_buy']\n",
    "        \n",
    "        for graph_type in graph_types:\n",
    "            self.load_graph(save_dir, tag=tag, graph_type=graph_type)\n",
    "        \n",
    "    def load_idtotitle(self, save_dir, tag=''):\n",
    "        map_file = f'{save_dir}/id_to_title{tag}.pickle'\n",
    "        if os.path.exists(map_file):\n",
    "            with open(map_file, 'rb') as f:\n",
    "                self.id_to_title = pickle.load(f)\n",
    "        else:\n",
    "            raise Exception(f\"Unable to load 'id_to_title' from '{map_file}'.\")\n",
    "            \n",
    "    def load_description(self, save_dir, tag=''):\n",
    "        content_file = f'{save_dir}/description{tag}.pickle'\n",
    "        if os.path.exists(content_file):\n",
    "            with open(content_file, 'rb') as f:\n",
    "                self.description = pickle.load(f)\n",
    "        else:\n",
    "            raise Exception(f\"Unable to load 'description' from '{content_file}'.\")\n",
    "            \n",
    "    def load_data(self, save_dir, tag=''):\n",
    "        self.load_graphs(save_dir, tag)\n",
    "        self.load_idtotitle(save_dir, tag)\n",
    "        self.load_description(save_dir, tag)\n",
    "        "
   ]
  },
  {
   "cell_type": "markdown",
   "id": "4c2a0bff",
   "metadata": {},
   "source": [
    "### Create graph"
   ]
  },
  {
   "cell_type": "code",
   "execution_count": 9,
   "id": "c4cebfdb",
   "metadata": {},
   "outputs": [],
   "source": [
    "save_dir = f'{dataset_home}/GraphAmazonProducts/results'\n",
    "amazon_graphs = AmazonGraphContainer()\n",
    "\n",
    "#amazon_graphs.create_graph(amazon_file)\n",
    "#amazon_graphs.save_data(save_dir)"
   ]
  },
  {
   "cell_type": "markdown",
   "id": "937ea65b",
   "metadata": {
    "heading_collapsed": true
   },
   "source": [
    "#### Testing"
   ]
  },
  {
   "cell_type": "code",
   "execution_count": 111,
   "id": "c49ebdb4",
   "metadata": {
    "hidden": true
   },
   "outputs": [],
   "source": [
    "save_dir = f'{dataset_home}/trial'\n",
    "\n",
    "amazon_graphs = AmazonGraphContainer()\n",
    "amazon_graphs.create_graph(amazon_file, limit=10)\n",
    "#amazon_graphs.save_data(save_dir, tag='_test')"
   ]
  },
  {
   "cell_type": "code",
   "execution_count": 112,
   "id": "829b8fa5",
   "metadata": {
    "hidden": true
   },
   "outputs": [
    {
     "data": {
      "text/plain": [
       "(7,\n",
       " dict_keys(['6342506256', '6342509379', '6342522081', '6342502315', '634252209X', '6342522898', '6342523002']))"
      ]
     },
     "execution_count": 112,
     "metadata": {},
     "output_type": "execute_result"
    }
   ],
   "source": [
    "len(amazon_graphs.graphs['also_view'].graph), amazon_graphs.graphs['also_view'].graph.keys()"
   ]
  },
  {
   "cell_type": "markdown",
   "id": "1f670a8a",
   "metadata": {
    "hidden": true
   },
   "source": [
    "6342506256\n",
    "6342509379\n",
    "6342522081\n",
    "6342502315\n",
    "\n",
    "634252209X\n",
    "6342522898\n",
    "6342523002"
   ]
  },
  {
   "cell_type": "markdown",
   "id": "6d895f5b",
   "metadata": {
    "heading_collapsed": true
   },
   "source": [
    "#### Loading"
   ]
  },
  {
   "cell_type": "code",
   "execution_count": 96,
   "id": "ac056f5a",
   "metadata": {
    "hidden": true
   },
   "outputs": [],
   "source": [
    "graph = AmazonGraphContainer()\n",
    "graph.load_data(save_dir, tag='_test')"
   ]
  },
  {
   "cell_type": "code",
   "execution_count": 105,
   "id": "65d28341",
   "metadata": {
    "hidden": true
   },
   "outputs": [
    {
     "name": "stdout",
     "output_type": "stream",
     "text": [
      "EMPTY!!\n"
     ]
    }
   ],
   "source": [
    "dict_head_random(graph.graphs['similar'].graph, n=2)"
   ]
  },
  {
   "cell_type": "code",
   "execution_count": 106,
   "id": "26941dea",
   "metadata": {
    "hidden": true
   },
   "outputs": [
    {
     "name": "stdout",
     "output_type": "stream",
     "text": [
      "6342502315 : (['B008Q0E5GG', 'B00MJB94W8', 'B00MQ2R4E0', 'B00MSGURES', 'B00NSF70KM', 'B00O2XKJRK', 'B00OYXPK40', 'B00PKTJWZU', 'B00UV3KXJE', 'B015MY2YZ2', 'B0169ZHJDK', 'B016OV70UQ', 'B0176MWX9K', 'B017M55DI4', 'B017M5BVXA', 'B017MRPFDA', 'B01ARAERV0', 'B01CIW8NAG', 'B01FQGGF5G', 'B01LWNUSJJ', 'B01LXAY36A', 'B01LYGQ76G', 'B01LYRMI0Q', 'B01M335X8C', 'B01M3N8NJ0', 'B01M8LC79F', 'B01MAZMNMA', 'B01MTOY6FM', 'B01N6IFJCK', 'B07285LHMN', 'B0741DMN8C', 'B07574HH9H', 'B075GY6V85', 'B075TF2SF3', 'B075VKDZW7', 'B075XHS5ZR', 'B0765BQZCM', 'B07716THHJ', 'B0772NH4K4', 'B077XRC6TB', 'B0786124FK', 'B079GBYMH2', 'B079GCD4VP', 'B07BBJRRP4', 'B07BGJHVZK', 'B07BVK2HSK', 'B07CT5SSVL', 'B07D1N4NPS', 'B07DWV353P', 'B07FD9HWPM', 'B07GDHLQN9', 'B07GWZV32X', 'B07H373XYB', 'B07H4LYXJG', 'B07HHJPC61', 'B07JJNQGYJ', 'B07JWFZMCG', 'B07KQYM4MD', 'B07M8FGC86'], [1, 1, 1, 1, 1, 1, 1, 1, 1, 1, 1, 1, 1, 1, 1, 1, 1, 1, 1, 1, 1, 1, 1, 1, 1, 1, 1, 1, 1, 1, 1, 1, 1, 1, 1, 1, 1, 1, 1, 1, 1, 1, 1, 1, 1, 1, 1, 1, 1, 1, 1, 1, 1, 1, 1, 1, 1, 1, 1])\n",
      "634252209X : (['B00V6F372G'], [1])\n"
     ]
    }
   ],
   "source": [
    "dict_head_random(graph.graphs['also_view'].graph, n=2)"
   ]
  },
  {
   "cell_type": "code",
   "execution_count": 107,
   "id": "d58a0eb4",
   "metadata": {
    "hidden": true
   },
   "outputs": [
    {
     "name": "stdout",
     "output_type": "stream",
     "text": [
      "6342522545 : (['B00VBVXVPI'], [1])\n",
      "6342502315 : (['B00BIJC8I4', 'B00G9EMVIA', 'B00KU1NLGO', 'B00MQ2R4E0', 'B00NSF70KM', 'B00NV1VFPO', 'B0169ZHJDK', 'B017M55DI4', 'B017M5BVXA', 'B018YRBB80', 'B019ZAYUB0', 'B01CIW8NAG', 'B01LLOUFRQ', 'B01LYDMB6U', 'B07FD9HWPM', 'B07KX6PPW6'], [1, 1, 1, 1, 1, 1, 1, 1, 1, 1, 1, 1, 1, 1, 1, 1])\n"
     ]
    }
   ],
   "source": [
    "dict_head_random(graph.graphs['also_buy'].graph, n=2)"
   ]
  },
  {
   "cell_type": "code",
   "execution_count": 113,
   "id": "d175fd40",
   "metadata": {
    "hidden": true
   },
   "outputs": [
    {
     "name": "stdout",
     "output_type": "stream",
     "text": [
      "True True True True True\n"
     ]
    }
   ],
   "source": [
    "print(amazon_graphs.description == graph.description, \n",
    "      amazon_graphs.id_to_title == graph.id_to_title,\n",
    "      amazon_graphs.graphs['similar'].graph == graph.graphs['similar'].graph,\n",
    "      amazon_graphs.graphs['also_view'].graph == graph.graphs['also_view'].graph,\n",
    "      amazon_graphs.graphs['also_buy'].graph == graph.graphs['also_buy'].graph)"
   ]
  },
  {
   "cell_type": "markdown",
   "id": "fd35446c",
   "metadata": {
    "heading_collapsed": true
   },
   "source": [
    "#### Visualize"
   ]
  },
  {
   "cell_type": "code",
   "execution_count": 115,
   "id": "b9ff5975",
   "metadata": {
    "hidden": true
   },
   "outputs": [
    {
     "name": "stdout",
     "output_type": "stream",
     "text": [
      "Number of nodes : 8\n"
     ]
    }
   ],
   "source": [
    "amazon_graphs.load_idtotitle(save_dir, tag='_test')\n",
    "print(f'Number of nodes : {len(amazon_graphs.id_to_title)}')"
   ]
  },
  {
   "cell_type": "code",
   "execution_count": 116,
   "id": "7cb065ea",
   "metadata": {
    "hidden": true
   },
   "outputs": [
    {
     "data": {
      "text/plain": [
       "(0, 7, 5)"
      ]
     },
     "execution_count": 116,
     "metadata": {},
     "output_type": "execute_result"
    }
   ],
   "source": [
    "amazon_graphs.load_graphs(save_dir, tag='_test')\n",
    "len(amazon_graphs.graphs['similar'].graph), len(amazon_graphs.graphs['also_view'].graph), \\\n",
    "len(amazon_graphs.graphs['also_buy'].graph)"
   ]
  },
  {
   "cell_type": "code",
   "execution_count": 31,
   "id": "d8954107",
   "metadata": {
    "hidden": true
   },
   "outputs": [],
   "source": [
    "amazon_graphs.load_graph(save_dir, graph_type='also_buy')\n",
    "amazon_graphs.load_graph(save_dir, graph_type='also_view')\n",
    "amazon_graphs.load_graph(save_dir, tag='_resolved', graph_type='similar')"
   ]
  },
  {
   "cell_type": "code",
   "execution_count": 117,
   "id": "1073f2e5",
   "metadata": {
    "hidden": true
   },
   "outputs": [
    {
     "name": "stdout",
     "output_type": "stream",
     "text": [
      "6342509379 : (['B0018OY5X0', 'B001AQVMDM', 'B002DMJOC8', 'B004EENYW4', 'B005F28HIK', 'B00CAKH5NI', 'B00W5AWTNY', 'B012KC6EO6', 'B012KC7F2Q', 'B012MKMMWO', 'B0156SZQ5O', 'B0157M276K', 'B0179ATZ9A', 'B0179AUC5Q', 'B0179AUNYQ', 'B017Y1GMR2', 'B019KYRQYO', 'B01A3S8MLC', 'B01CG5HYE6', 'B01E377QRU', 'B01FVRKZ4W', 'B01GJNI42C', 'B01H7EMBXK', 'B01N5M3ZMG', 'B06VV1HQ79', 'B06Y26PZ5R', 'B06Y2QZW18', 'B06Y5N9YFF', 'B071PFP967', 'B072XTTTK9', 'B073P7PHCD', 'B073WRLB3Y', 'B074WHY9NZ', 'B0757DW7XJ', 'B075F6WW62', 'B075KQPV28', 'B075ZWMDK4', 'B076B8J2TX', 'B076ZKSN8Q', 'B077GBDQ44', 'B077GQQKRV', 'B077TR2855', 'B0797PSJ4J', 'B079F6M38L', 'B07C3FNYF5', 'B07CBJQTF6', 'B07CHLF5RG', 'B07CKDN5GS', 'B07CMK5VRD', 'B07CQ4P1ZD', 'B07CQCKX1P', 'B07CQJ8S9V', 'B07FS739BL', 'B07GBSJSWP', 'B07H2YZS5K', 'B07H2Z6S9J', 'B07H319WRY', 'B07JGB3X5J'], [1, 1, 1, 1, 1, 1, 1, 1, 1, 1, 1, 1, 1, 1, 1, 1, 1, 1, 1, 1, 1, 1, 1, 1, 1, 1, 1, 1, 1, 1, 1, 1, 1, 1, 1, 1, 1, 1, 1, 1, 1, 1, 1, 1, 1, 1, 1, 1, 1, 1, 1, 1, 1, 1, 1, 1, 1, 1])\n",
      "6342523002 : (['B00SNO625W', 'B00UHFS00K', 'B00VCLWMCK', 'B015W134LS', 'B016ENOSXQ', 'B018EU3W8O', 'B01AHZSZ9A', 'B01DVK3WE6', 'B01EKRMG8C', 'B01HCXLF2O', 'B01I809NCO', 'B01IF31L10', 'B01LY4VKTL', 'B01MRV4X73', 'B01MZITI8H', 'B06XY5N95G', 'B071PCDLPM', 'B0748C68ZX', 'B075HFPDKH', 'B076MFT8VN', 'B076P5461L', 'B076TGSB9B', 'B0777DN7XP', 'B078P98NK9', 'B0794XK35L', 'B079S13Y55', 'B07B7DQYNT', 'B07BD7835C', 'B07BFDGP38', 'B07BY23Z4X', 'B07C7FZWL5', 'B07CCMY3LY', 'B07CL8NTYC', 'B07CLPZ5Z9', 'B07DJR745F', 'B07FKKN52B', 'B07G7223TK', 'B07GTW9FDD', 'B07JMZDG8C'], [1, 1, 1, 1, 1, 1, 1, 1, 1, 1, 1, 1, 1, 1, 1, 1, 1, 1, 1, 1, 1, 1, 1, 1, 1, 1, 1, 1, 1, 1, 1, 1, 1, 1, 1, 1, 1, 1, 1])\n"
     ]
    }
   ],
   "source": [
    "dict_head_random(amazon_graphs.graphs['also_view'].graph, n=2)"
   ]
  },
  {
   "cell_type": "code",
   "execution_count": 118,
   "id": "546f84ef",
   "metadata": {
    "hidden": true
   },
   "outputs": [
    {
     "name": "stdout",
     "output_type": "stream",
     "text": [
      "6342522898 : (['B00125SQ44', 'B015W134LS', 'B01AHZSZ9A', 'B01H43Z5GY', 'B01H8BRYXY', 'B01I809NCO', 'B01JRDL1JE', 'B01NBT7VLP', 'B06XKWCGTT', 'B06ZZBQMT4', 'B07219C7LQ', 'B0748C68ZX', 'B07CMD59N4'], [1, 1, 1, 1, 1, 1, 1, 1, 1, 1, 1, 1, 1])\n",
      "6342502315 : (['B00BIJC8I4', 'B00G9EMVIA', 'B00KU1NLGO', 'B00MQ2R4E0', 'B00NSF70KM', 'B00NV1VFPO', 'B0169ZHJDK', 'B017M55DI4', 'B017M5BVXA', 'B018YRBB80', 'B019ZAYUB0', 'B01CIW8NAG', 'B01LLOUFRQ', 'B01LYDMB6U', 'B07FD9HWPM', 'B07KX6PPW6'], [1, 1, 1, 1, 1, 1, 1, 1, 1, 1, 1, 1, 1, 1, 1, 1])\n"
     ]
    }
   ],
   "source": [
    "dict_head_random(amazon_graphs.graphs['also_buy'].graph, n=2)"
   ]
  },
  {
   "cell_type": "code",
   "execution_count": 119,
   "id": "e148c059",
   "metadata": {
    "hidden": true
   },
   "outputs": [
    {
     "name": "stdout",
     "output_type": "stream",
     "text": [
      "EMPTY!!\n"
     ]
    }
   ],
   "source": [
    "dict_head_random(amazon_graphs.graphs['similar'].graph, n=2)"
   ]
  },
  {
   "cell_type": "code",
   "execution_count": 122,
   "id": "074de400",
   "metadata": {
    "hidden": true
   },
   "outputs": [
    {
     "data": {
      "text/plain": [
       "{'6342506256': \"Gaok Men's Retro Cotton Multi-Pocket Camo Cargo Shorts\",\n",
       " '6342509379': \"QIBOE Men's Baggy Jeans Denim Sweatpants Loose Pants\",\n",
       " '6342522081': 'Crazy Explosion-proof Lens Polarized Sunglasses Cycling Glasses Lenses',\n",
       " '6342502315': \"Crazy Women's Voile Crinkle Scarf Shawl\",\n",
       " '6342522545': 'FQQ Women Sexy Lingerie Lace Dress Sheer Babydoll Underwear G-string Outfit Set',\n",
       " '634252209X': 'Crazy Explosion-proof Lens Polarized Sunglasses Cycling Glasses Lenses',\n",
       " '6342522898': \"Crazy Women's Sexy Leather Backless Bodycon Clubwear Mini Dress Nightclub\",\n",
       " '6342523002': \"FQQ Women's Sexy Lingerie Babydoll Dress Sleepwear Bodysuit\"}"
      ]
     },
     "execution_count": 122,
     "metadata": {},
     "output_type": "execute_result"
    }
   ],
   "source": [
    "amazon_graphs.id_to_title"
   ]
  },
  {
   "cell_type": "markdown",
   "id": "cc35a85e",
   "metadata": {},
   "source": [
    "###  Similar products"
   ]
  },
  {
   "cell_type": "code",
   "execution_count": 125,
   "id": "8c769277",
   "metadata": {},
   "outputs": [],
   "source": [
    "amazon_graphs.load_data(save_dir)"
   ]
  },
  {
   "cell_type": "code",
   "execution_count": 96,
   "id": "4818b330",
   "metadata": {},
   "outputs": [],
   "source": [
    "amazon_graphs.replace_similar_graph_titles()\n",
    "amazon_graphs.save_graph(save_dir, tag='_resolved', graph_type='similar')"
   ]
  },
  {
   "cell_type": "markdown",
   "id": "3eb93242",
   "metadata": {
    "heading_collapsed": true
   },
   "source": [
    "#### Testing"
   ]
  },
  {
   "cell_type": "code",
   "execution_count": 157,
   "id": "2cfeab7b",
   "metadata": {
    "hidden": true
   },
   "outputs": [],
   "source": [
    "graph = AmazonGraphContainer()\n",
    "\n",
    "g  = {1:(['s', 'u', 'c'], [1, 2, 1]), \n",
    "     2:(['h', 'i', 't'], [3, 1, 1]), \n",
    "     3:(['h', 'p', 'r'], [5, 1, 1]),\n",
    "     4:(['a', 'b', 'h', 'u'], [1, 99, 1, 1]), \n",
    "     5:(['f'], [1])}"
   ]
  },
  {
   "cell_type": "code",
   "execution_count": 158,
   "id": "800987fd",
   "metadata": {
    "hidden": true
   },
   "outputs": [],
   "source": [
    "graph.graphs['similar'].graph = g"
   ]
  },
  {
   "cell_type": "code",
   "execution_count": 159,
   "id": "5bf1768e",
   "metadata": {
    "hidden": true
   },
   "outputs": [
    {
     "data": {
      "text/plain": [
       "{0: 's',\n",
       " 1: 'u',\n",
       " 2: 'h',\n",
       " 3: 'i',\n",
       " 4: 'h',\n",
       " 5: 'p',\n",
       " 6: 'a',\n",
       " 7: 'b',\n",
       " 8: 'h',\n",
       " 9: 'g'}"
      ]
     },
     "execution_count": 159,
     "metadata": {},
     "output_type": "execute_result"
    }
   ],
   "source": [
    "graph.id_to_title = {i:c for i, c in enumerate(\"suhihpabhg\")}\n",
    "graph.id_to_title"
   ]
  },
  {
   "cell_type": "code",
   "execution_count": 160,
   "id": "d8061c9b",
   "metadata": {
    "hidden": true
   },
   "outputs": [],
   "source": [
    "graph.replace_similar_graph_titles()"
   ]
  },
  {
   "cell_type": "code",
   "execution_count": 161,
   "id": "4738c766",
   "metadata": {
    "hidden": true
   },
   "outputs": [
    {
     "data": {
      "text/plain": [
       "{1: ([0, 1], [1, 2]),\n",
       " 2: ([8, 3], [3, 1]),\n",
       " 3: ([8, 5], [5, 1]),\n",
       " 4: ([6, 7, 8, 1], [1, 99, 1, 1])}"
      ]
     },
     "execution_count": 161,
     "metadata": {},
     "output_type": "execute_result"
    }
   ],
   "source": [
    "graph.graphs['similar'].graph"
   ]
  },
  {
   "cell_type": "markdown",
   "id": "16a45772",
   "metadata": {
    "heading_collapsed": true
   },
   "source": [
    "#### Statistics"
   ]
  },
  {
   "cell_type": "code",
   "execution_count": 203,
   "id": "3c173b72",
   "metadata": {
    "code_folding": [],
    "hidden": true
   },
   "outputs": [
    {
     "name": "stdout",
     "output_type": "stream",
     "text": [
      "Number of products : 8\n",
      "Number of absent   : 14\n"
     ]
    }
   ],
   "source": [
    "num_products, num_absent = 0, 0\n",
    "absent_similar_products = list()\n",
    "\n",
    "title_to_id = {ptitle:pid for pid, ptitle in amazon_graphs.id_to_title.items()}\n",
    "\n",
    "for node, edges in amazon_graphs.graphs['similar'].graph.items():\n",
    "    num_products += len(edges)\n",
    "    for edge in edges[0]:\n",
    "        if edge not in title_to_id:\n",
    "            num_absent += 1\n",
    "            absent_similar_products.append(edge)\n",
    "\n",
    "print(f'Number of products : {num_products}')\n",
    "print(f'Number of absent   : {num_absent}')"
   ]
  },
  {
   "cell_type": "code",
   "execution_count": 206,
   "id": "17ea9d39",
   "metadata": {
    "hidden": true
   },
   "outputs": [
    {
     "data": {
      "text/plain": [
       "array(['Princess Paradise Percy Ride-in Train Costume, Green, Child',\n",
       "       'Forum Novelties 78762 Festive Happy Birthday Cone Hat Adults Kids Pom Balls Circus Fancy Accessory Party Supplies, One Size',\n",
       "       'Girls Princess Tiara Cone Hat Headband, Lavender',\n",
       "       'Disney Pixar Monsters University Mike Boys Deluxe Costume, Large/4-6'],\n",
       "      dtype='<U123')"
      ]
     },
     "execution_count": 206,
     "metadata": {},
     "output_type": "execute_result"
    }
   ],
   "source": [
    "np.random.choice(absent_similar_products, size=4)"
   ]
  },
  {
   "cell_type": "markdown",
   "id": "27529d7e",
   "metadata": {},
   "source": [
    "#### Visualize"
   ]
  },
  {
   "cell_type": "code",
   "execution_count": 126,
   "id": "9ae2ca48",
   "metadata": {},
   "outputs": [
    {
     "name": "stdout",
     "output_type": "stream",
     "text": [
      "B00J4NR412 : (['B00JJ1TOVC', 'B00JJ1SU1W'], [1, 1])\n",
      "B004I16NYY : (['B002R0P0C4'], [1])\n",
      "B007KFNMJ4 : (['B000IY80S2', 'B000IY9IUQ', 'B002L6JFL6'], [1, 1, 1])\n",
      "B000CIXMLY : (['B000CIV4PU', 'B000E35WHO'], [1, 1])\n",
      "B001PGTQAS : (['B01E6BS8EI', 'B001PGTQIK', 'B019VFFUGI'], [1, 1, 1])\n",
      "B00INXD0XA : (['B00INXD2TM', 'B00INXD5O4'], [1, 1])\n",
      "B00VWXHVII : (['B00QXUDIL4'], [1])\n",
      "B01D34UKV8 : (['B00ZOZ9XRC'], [1])\n",
      "B00PAV3GLE : (['B00APBDG4G'], [1])\n",
      "B01B2TXMIO : (['B00OTXYLKE'], [1])\n"
     ]
    }
   ],
   "source": [
    "amazon_graphs.load_graph(save_dir, tag='_resolved', graph_type='similar')\n",
    "\n",
    "dict_head_random(amazon_graphs.graphs['similar'].graph)"
   ]
  },
  {
   "cell_type": "markdown",
   "id": "5c85f489",
   "metadata": {},
   "source": [
    "### Read duplicates"
   ]
  },
  {
   "cell_type": "code",
   "execution_count": 68,
   "id": "35e9cb48",
   "metadata": {
    "code_folding": [
     0
    ]
   },
   "outputs": [],
   "source": [
    "def load_duplicates_map(duplicate_file, id_to_title):\n",
    "    duplicates = {}\n",
    "    \n",
    "    with open(duplicates_file) as file:\n",
    "        for line in file:\n",
    "            product_ids = line[:-1].split(' ')\n",
    "            \n",
    "            representative_id = None\n",
    "            if len(product_ids):\n",
    "                for product_id in product_ids:\n",
    "                    if product_id in id_to_title:\n",
    "                        if representative_id is None:\n",
    "                            representative_id = product_id\n",
    "                        duplicates[product_id] = representative_id\n",
    "                    \n",
    "    return duplicates\n"
   ]
  },
  {
   "cell_type": "code",
   "execution_count": 127,
   "id": "7c19c1c1",
   "metadata": {},
   "outputs": [],
   "source": [
    "duplicates_file = f'{dataset_home}/datasets/duplicates.txt'\n",
    "duplicates = load_duplicates_map(duplicates_file, amazon_graphs.id_to_title)"
   ]
  },
  {
   "cell_type": "code",
   "execution_count": 65,
   "id": "259ec3b9",
   "metadata": {},
   "outputs": [
    {
     "name": "stdout",
     "output_type": "stream",
     "text": [
      "1935937286 : 1935937286\n",
      "1503940918 : 1503940918\n",
      "B000025M3E : B000025M3E\n",
      "B00GWYE40U : B00GWYE40U\n",
      "B00KX0RJL0 : B00KX0RJL0\n"
     ]
    }
   ],
   "source": [
    "dict_head_random(duplicates, n=5)"
   ]
  },
  {
   "cell_type": "markdown",
   "id": "7da7a2f1",
   "metadata": {},
   "source": [
    "### Remove duplicates"
   ]
  },
  {
   "cell_type": "code",
   "execution_count": 128,
   "id": "0edf14b0",
   "metadata": {},
   "outputs": [],
   "source": [
    "amazon_graphs.replace_graph_duplicates(duplicates)\n",
    "amazon_graphs.remove_dead()\n",
    "amazon_graphs.convert_graph()\n",
    "\n",
    "amazon_graphs.save_graphs(save_dir, tag='_dict')"
   ]
  },
  {
   "cell_type": "markdown",
   "id": "9a82e550",
   "metadata": {
    "heading_collapsed": true
   },
   "source": [
    "#### Testing"
   ]
  },
  {
   "cell_type": "code",
   "execution_count": 40,
   "id": "a71926f3",
   "metadata": {
    "hidden": true
   },
   "outputs": [],
   "source": [
    "graph = AmazonGraph()\n",
    "\n",
    "d = {1:100, 4:400}\n",
    "g = {1:([22, 33, 44], [1, 1, 1]), \n",
    "     2:([1, 2, 3], [1, 1, 1]), \n",
    "     3:([99, 23, 12], [1, 1, 1]),\n",
    "     4:([1, 11, 3, 13], [1, 1, 1]), \n",
    "     5:([4, 5], [1, 1])}"
   ]
  },
  {
   "cell_type": "code",
   "execution_count": 41,
   "id": "f4335a94",
   "metadata": {
    "hidden": true
   },
   "outputs": [
    {
     "data": {
      "text/plain": [
       "{1: ([22, 33, 44], [1, 1, 1]),\n",
       " 2: ([1, 2, 3], [1, 1, 1]),\n",
       " 3: ([99, 23, 12], [1, 1, 1]),\n",
       " 4: ([1, 11, 3, 13], [1, 1, 1]),\n",
       " 5: ([4, 5], [1, 1])}"
      ]
     },
     "execution_count": 41,
     "metadata": {},
     "output_type": "execute_result"
    }
   ],
   "source": [
    "graph.graph = g\n",
    "graph.graph"
   ]
  },
  {
   "cell_type": "code",
   "execution_count": 42,
   "id": "da53ffb3",
   "metadata": {
    "hidden": true
   },
   "outputs": [
    {
     "data": {
      "text/plain": [
       "{2: ([100, 2, 3], [1, 1, 1]),\n",
       " 3: ([99, 23, 12], [1, 1, 1]),\n",
       " 5: ([400, 5], [1, 1]),\n",
       " 100: ([22, 33, 44], [1, 1, 1]),\n",
       " 400: ([100, 11, 3, 13], [1, 1, 1])}"
      ]
     },
     "execution_count": 42,
     "metadata": {},
     "output_type": "execute_result"
    }
   ],
   "source": [
    "graph.replace_duplicates(d)\n",
    "graph.graph"
   ]
  },
  {
   "cell_type": "markdown",
   "id": "674d2c08",
   "metadata": {
    "heading_collapsed": true
   },
   "source": [
    "#### Visualize"
   ]
  },
  {
   "cell_type": "code",
   "execution_count": 102,
   "id": "4e90546b",
   "metadata": {
    "hidden": true
   },
   "outputs": [],
   "source": [
    "amazon_graphs.load_graphs(save_dir, tag='_dict')"
   ]
  },
  {
   "cell_type": "code",
   "execution_count": 103,
   "id": "76626831",
   "metadata": {
    "hidden": true
   },
   "outputs": [
    {
     "name": "stdout",
     "output_type": "stream",
     "text": [
      "0131879057 : {'0132826453': 1}\n",
      "B002OC311M : {'B001D6A4G0': 1, 'B0001NLE06': 1, 'B002NLXZX8': 1, 'B002NLZYFA': 1, 'B002S60V76': 1, 'B002ZKGQGK': 1, 'B002ZKKX3M': 1, 'B00NVGLE0U': 1, 'B00NVGLX42': 1, 'B00QH7PSV6': 1, 'B01N4CV2VB': 1, 'B071VJPDK3': 1, 'B0731S5NMG': 1, 'B0779Q7LXW': 1, 'B07F195ZSH': 1}\n"
     ]
    }
   ],
   "source": [
    "dict_head_random(amazon_graphs.graphs['also_view'].graph, n=2)"
   ]
  },
  {
   "cell_type": "code",
   "execution_count": 106,
   "id": "20900dcf",
   "metadata": {
    "hidden": true
   },
   "outputs": [
    {
     "name": "stdout",
     "output_type": "stream",
     "text": [
      "B01BISDLWQ : {'B006P2SZ6S': 1, 'B01950TCEU': 1, 'B01J5RH5Y2': 1}\n",
      "B004IZN51Y : {'B000ZFPZHI': 1, 'B00861UPUA': 1, 'B008VPU1YG': 1, 'B0091CC1OG': 1, 'B00DYR9FUC': 1, 'B00BJEP7NQ': 1, 'B00PM2EQE2': 1, 'B00UXK6G00': 1, 'B00XK60UMY': 1, 'B015JCJX2Y': 1, 'B01MSVZFAU': 1, 'B01N4ASYLJ': 1, 'B06ZZ3M9Y7': 1, 'B073KWCFTB': 1, 'B073R18713': 1, 'B074QMCX31': 1, 'B075RLMYBQ': 1, 'B076Q7XY2Q': 1, 'B077GDFV4V': 1, 'B078N7M2HF': 1, 'B079L3WBDN': 1, 'B07CS9MZCD': 1, 'B07HDHXZH4': 1, 'B07HR8SSJV': 1, 'B07L5FPMV3': 1}\n"
     ]
    }
   ],
   "source": [
    "dict_head_random(amazon_graphs.graphs['also_buy'].graph, n=2)"
   ]
  },
  {
   "cell_type": "code",
   "execution_count": 105,
   "id": "eee4eda9",
   "metadata": {
    "hidden": true
   },
   "outputs": [
    {
     "name": "stdout",
     "output_type": "stream",
     "text": [
      "B014LGK1P2 : {'B00MNOPS1C': 1, 'B00CM1AAOG': 1}\n",
      "B00ILUQSZW : {'B00UPSMB0O': 1}\n",
      "B00UQQWN3A : {'B014KMKV84': 1, 'B014KMKVGG': 1, 'B0009V89NK': 1, 'B007CISMEE': 1}\n"
     ]
    }
   ],
   "source": [
    "dict_head_random(amazon_graphs.graphs['similar'].graph, n=3)"
   ]
  },
  {
   "cell_type": "markdown",
   "id": "85959e69",
   "metadata": {},
   "source": [
    "## Train-test split"
   ]
  },
  {
   "cell_type": "code",
   "execution_count": 129,
   "id": "5204b81a",
   "metadata": {
    "code_folding": [
     0,
     7
    ]
   },
   "outputs": [],
   "source": [
    "def prune_map(mapping, idxs):\n",
    "    rev_mapping = {value:key for key, value in mapping.items()}\n",
    "    pruned_mapping = {}\n",
    "    for i, idx in enumerate(idxs):\n",
    "        pruned_mapping[rev_mapping[idx]] = i\n",
    "    return pruned_mapping\n",
    "\n",
    "def split_count(num_samples, perc=0.7):\n",
    "    if num_samples == 1:\n",
    "        return 1 if np.random.rand() > 0.3 else 0\n",
    "    \n",
    "    num_train = int( np.ceil(num_samples*perc) )\n",
    "    if num_train == num_samples and num_samples > 1:\n",
    "        num_train -= 1\n",
    "    return num_train\n"
   ]
  },
  {
   "cell_type": "code",
   "execution_count": 130,
   "id": "5d777abf",
   "metadata": {
    "code_folding": [
     0,
     14,
     34,
     51,
     85,
     149,
     184,
     190,
     195,
     199,
     204,
     209,
     218,
     244,
     255
    ]
   },
   "outputs": [],
   "source": [
    "class AmazonSplit:\n",
    "    \n",
    "    def __init__(self, graph=None):\n",
    "        self.graph = None\n",
    "        self.labels = None\n",
    "        self.doc_to_rowindex = None\n",
    "        \n",
    "        if graph:\n",
    "            _ = self.to_matrix(graph)\n",
    "        \n",
    "        self.train, self.test = None, None\n",
    "        self.trn_tst_labels = None\n",
    "        self.train_doc_to_rowindex, self.test_doc_to_rowindex = None, None\n",
    "        \n",
    "    def to_matrix(self, graph):\n",
    "        indptr = [0]\n",
    "        indices = []\n",
    "        data = []\n",
    "\n",
    "        self.doc_to_rowindex = {}\n",
    "\n",
    "        self.labels = {}\n",
    "        for i, (doc, edge_count) in enumerate(graph.items()):\n",
    "            self.doc_to_rowindex[doc] = i\n",
    "            \n",
    "            for link, cnt in edge_count.items():\n",
    "                index = self.labels.setdefault(link, len(self.labels))\n",
    "                indices.append(index)\n",
    "                data.append(cnt)\n",
    "            indptr.append(len(indices))\n",
    "\n",
    "        self.graph = csr_matrix((data, indices, indptr), dtype=int)\n",
    "        return self.graph, self.labels, self.doc_to_rowindex\n",
    "    \n",
    "    def clean_matrix(self, clean_type=0):\n",
    "        if clean_type == 0:\n",
    "            self.graph, self.labels, self.doc_to_rowindex = self.remove_single_labels(self.graph,\n",
    "                                                                                      self.labels,\n",
    "                                                                                      self.doc_to_rowindex)\n",
    "        elif clean_type == 1:\n",
    "            pruned_rows = self.get_pruned_row(self.graph)\n",
    "            self.graph, self.doc_to_rowindex = self.prune_graph_rows(self.graph,\n",
    "                                                                     self.doc_to_rowindex,\n",
    "                                                                     pruned_rows)\n",
    "        else:\n",
    "            pruned_cols = self.get_pruned_cols(self.graph)\n",
    "            self.graph, self.labels = self.prune_graph_cols(self.graph,\n",
    "                                                           self.labels,\n",
    "                                                           pruned_cols)\n",
    "    \n",
    "    \"\"\"\n",
    "    def get_split_idx(self):\n",
    "        train_rowidx = []\n",
    "        test_rowidx = []\n",
    "        \n",
    "        num_rows, num_cols = self.graph.shape\n",
    "        row_available_flag = np.ones(num_rows, dtype=bool)\n",
    "        \n",
    "        label_cnt = np.array(self.graph.sum(axis=0)).reshape(-1)\n",
    "        uni_label_cnt = np.unique(label_cnt)\n",
    "        \n",
    "        for lcnt in uni_label_cnt:\n",
    "            if lcnt > upper_threshold:\n",
    "                break\n",
    "                \n",
    "            label_pos = np.where(label_cnt == lcnt)[0]\n",
    "            row_numlabels = np.array(self.graph[:, label_pos].sum(axis=1)).reshape(-1)\n",
    "            \n",
    "            row_idx = np.where(row_numlabels > 0)[0]\n",
    "            row_available_flag[row_idx] = False\n",
    "            num_train = split_count(row_idx.shape[0], perc=0.7)\n",
    "            row_idx = list(np.random.permutation(row_idx))\n",
    "\n",
    "            train_rowidx.extend(row_idx[:num_train])\n",
    "            test_rowidx.extend(row_idx[num_train:])\n",
    "        \n",
    "        row_idx = np.where(row_available_flag == True)[0]\n",
    "        num_train = split_count(row_idx.shape[0], perc=0.7)\n",
    "        row_idx = list(np.random.permutation(row_idx))\n",
    "        train_rowidx.extend(row_idx[:num_train])\n",
    "        test_rowidx.extend(row_idx[num_train:])\n",
    "        \n",
    "        return train_rowidx, test_rowidx\n",
    "        \"\"\"\n",
    "    \n",
    "    def get_split_idx(self, upper_threshold=10, perc=0.7):\n",
    "        train_rowidx = []\n",
    "        test_rowidx = []\n",
    "        \n",
    "        row_idxs, col_idxs = self.graph.nonzero()\n",
    "        sort_idx = np.argsort(col_idxs)\n",
    "        row_idxs = row_idxs[sort_idx]\n",
    "        col_idxs = col_idxs[sort_idx]\n",
    "        \n",
    "        num_rows = self.graph.shape[0]\n",
    "        row_inserted_flag = np.zeros(num_rows, dtype=bool)\n",
    "        \n",
    "        label_cnt = np.array(self.graph.getnnz(axis=0)).reshape(-1)\n",
    "        uni_label_cnt = np.unique(label_cnt)\n",
    "        \n",
    "        \"\"\"\n",
    "        print(label_cnt)\n",
    "        print(uni_label_cnt)\n",
    "        \"\"\"\n",
    "        \n",
    "        cnt = 0\n",
    "        for lcnt in uni_label_cnt:\n",
    "            if cnt == num_rows or lcnt >= upper_threshold:\n",
    "                break\n",
    "                \n",
    "            pos_ptr, col_ptr = 0, 0\n",
    "            pos_idxs = np.where(label_cnt == lcnt)[0]\n",
    "            pos_idxs.sort()\n",
    "\n",
    "            while col_ptr < len(col_idxs) and pos_ptr < len(pos_idxs) and cnt < num_rows:\n",
    "                if pos_idxs[pos_ptr] != col_idxs[col_ptr]:\n",
    "                    col_ptr += 1\n",
    "                else:\n",
    "                    sample_row_idxs = []\n",
    "                    while col_ptr < len(col_idxs) and pos_ptr < len(pos_idxs) and \\\n",
    "                    cnt < num_rows and pos_idxs[pos_ptr] == col_idxs[col_ptr]:\n",
    "                        rn = row_idxs[col_ptr]\n",
    "                        if not row_inserted_flag[rn]:\n",
    "                            sample_row_idxs.append(rn)\n",
    "                            row_inserted_flag[rn] = True\n",
    "                            cnt += 1\n",
    "                        col_ptr += 1\n",
    "                    pos_ptr += 1\n",
    "                    \n",
    "                    num_train = split_count(len(sample_row_idxs), perc=0.7)\n",
    "                    sample_row_idxs = list(np.random.permutation(sample_row_idxs))\n",
    "                    train_rowidx.extend(sample_row_idxs[:num_train])\n",
    "                    test_rowidx.extend(sample_row_idxs[num_train:])\n",
    "                    \"\"\"\n",
    "                    print(f'Sample row : {sample_row_idxs}')\n",
    "                    print(f'train : {train_rowidx}')\n",
    "                    print(f'test  : {test_rowidx}')\n",
    "                    \"\"\"\n",
    "                    \n",
    "        sample_row_idxs = np.where(row_inserted_flag == False)[0]\n",
    "        num_train = split_count(num_rows, perc=0.7)\n",
    "        num_train -= len(train_rowidx)\n",
    "        \n",
    "        sample_row_idxs = list(np.random.permutation(sample_row_idxs))\n",
    "        train_rowidx.extend(sample_row_idxs[:num_train])\n",
    "        test_rowidx.extend(sample_row_idxs[num_train:])\n",
    "        \n",
    "        return train_rowidx, test_rowidx\n",
    "    \n",
    "    def get_split_bylabel(self, upper_threshold=10, perc=0.7):\n",
    "        \"\"\"\n",
    "        splitting data into train-test\n",
    "        \"\"\"\n",
    "        train_idx, test_idx = self.get_split_idx(upper_threshold, perc)\n",
    "        \n",
    "        self.train = self.graph[train_idx, :]\n",
    "        self.test = self.graph[test_idx, :]\n",
    "        self.trn_tst_labels = self.labels\n",
    "        \n",
    "        rowindex_to_doc = {row_idx:doc for doc, row_idx in self.doc_to_rowindex.items()}\n",
    "        \n",
    "        self.train_doc_to_rowindex = {rowindex_to_doc[idx]:i for i, idx in enumerate(train_idx)}\n",
    "        self.test_doc_to_rowindex = {rowindex_to_doc[idx]:i for i, idx in enumerate(test_idx)}\n",
    "        \n",
    "        \"\"\"\n",
    "        pruning the columns\n",
    "        \"\"\"\n",
    "        trn_pruned_cols = self.get_pruned_cols(self.train)\n",
    "        tst_pruned_cols = self.get_pruned_cols(self.test)\n",
    "        pruned_cols = np.intersect1d(trn_pruned_cols, tst_pruned_cols)\n",
    "        self.train = self.train[:, pruned_cols]\n",
    "        self.test = self.test[:, pruned_cols]\n",
    "        self.trn_tst_labels = prune_map(self.trn_tst_labels, pruned_cols)\n",
    "        \n",
    "        \"\"\"\n",
    "        prunning the rows\n",
    "        \"\"\"\n",
    "        pruned_rows = self.get_pruned_row(self.train)\n",
    "        self.train, self.train_doc_to_rowindex = self.prune_graph_rows(self.train, \n",
    "                                                                       self.train_doc_to_rowindex, pruned_rows)\n",
    "        pruned_rows = self.get_pruned_row(self.test)\n",
    "        self.test, self.test_doc_to_rowindex = self.prune_graph_rows(self.test,\n",
    "                                                                     self.test_doc_to_rowindex, pruned_rows)\n",
    "        \n",
    "    def get_random_split_idx(self, perc=0.7):\n",
    "        n_docs = self.graph.shape[0]\n",
    "        n_trn = int(perc * n_docs)\n",
    "        rand_idx = np.random.permutation(n_docs)\n",
    "        return rand_idx[:n_trn], rand_idx[n_trn:]\n",
    "    \n",
    "    def get_pruned_cols(self, graph, count=0):\n",
    "        label_cnt = np.array(graph.getnnz(axis=0)).reshape(-1)\n",
    "        pruned_cols = np.where(label_cnt > count)[0]\n",
    "        return pruned_cols\n",
    "    \n",
    "    def get_pruned_row(self, graph, count=0):\n",
    "        pruned_rows = np.where( np.array(graph.getnnz(axis=1)).reshape(-1) > count )[0]\n",
    "        return pruned_rows\n",
    "    \n",
    "    def prune_graph_cols(self, graph, labels, pruned_cols):\n",
    "        graph = graph[:, pruned_cols]\n",
    "        labels = prune_map(labels, pruned_cols)\n",
    "        return graph, labels\n",
    "    \n",
    "    def prune_graph_rows(self, graph, doc_to_rowindex, pruned_rows):\n",
    "        graph = graph[pruned_rows, :]\n",
    "        doc_to_rowindex = prune_map(doc_to_rowindex, pruned_rows)\n",
    "        return graph, doc_to_rowindex\n",
    "    \n",
    "    def remove_single_labels(self, graph, labels, doc_to_rowindex):\n",
    "        pruned_cols = self.get_pruned_cols(graph, count=1)\n",
    "        graph, labels = self.prune_graph_cols(graph, labels, pruned_cols)\n",
    "        \n",
    "        pruned_rows = self.get_pruned_row(graph)\n",
    "        graph, doc_to_rowindex = self.prune_graph_rows(graph, doc_to_rowindex, pruned_rows)\n",
    "\n",
    "        return graph, labels, doc_to_rowindex\n",
    "        \n",
    "    def get_split_byrandom(self, perc=0.7):\n",
    "        train_idx, test_idx = self.get_random_split_idx(perc)\n",
    "        \n",
    "        self.train = self.graph[train_idx, :]\n",
    "        self.test = self.graph[test_idx, :]\n",
    "        rowindex_to_doc = {row_idx:doc for doc, row_idx in self.doc_to_rowindex.items()}\n",
    "        self.train_doc_to_rowindex = {rowindex_to_doc[idx]:i for i, idx in enumerate(train_idx)}\n",
    "        self.test_doc_to_rowindex = {rowindex_to_doc[idx]:i for i, idx in enumerate(test_idx)}\n",
    "        \n",
    "        train_pruned_cols = self.get_pruned_cols(self.train)\n",
    "        test_pruned_cols = self.get_pruned_cols(self.test)\n",
    "        pruned_cols = np.intersect1d(train_pruned_cols, test_pruned_cols)\n",
    "        \n",
    "        self.train = self.train[:, pruned_cols]\n",
    "        self.test = self.test[:, pruned_cols]\n",
    "        self.trn_tst_labels = prune_map(self.labels, pruned_cols)\n",
    "        \n",
    "        pruned_rows = self.get_pruned_row(self.train)\n",
    "        self.train, self.train_doc_to_rowindex = self.prune_graph_rows(self.train, \n",
    "                                                                       self.train_doc_to_rowindex, \n",
    "                                                                       pruned_rows)\n",
    "        pruned_rows = self.get_pruned_row(self.test)\n",
    "        self.test, self.test_doc_to_rowindex = self.prune_graph_rows(self.test,\n",
    "                                                                     self.test_doc_to_rowindex,\n",
    "                                                                     pruned_rows)\n",
    "        \n",
    "    def save_data(self, save_dir, tag='category'):\n",
    "        train_file = f'{save_dir}/{tag}_train.pkl'\n",
    "        with open(train_file, 'wb') as fout:\n",
    "            train = (self.trn_tst_labels, self.train_doc_to_rowindex, self.train)\n",
    "            pickle.dump(train, fout)\n",
    "            \n",
    "        test_file = f'{save_dir}/{tag}_test.pkl'\n",
    "        with open(test_file, 'wb') as fout:\n",
    "            test = (self.trn_tst_labels, self.test_doc_to_rowindex, self.test)\n",
    "            pickle.dump(test, fout)\n",
    "            \n",
    "    def load_data(self, save_dir, tag='category'):\n",
    "        train_file = f'{save_dir}/{tag}_train.pkl'\n",
    "        with open(train_file, 'rb') as fout:\n",
    "            train = pickle.load(fout)\n",
    "            self.trn_tst_labels, self.train_doc_to_rowindex, self.train = train\n",
    "            \n",
    "        test_file = f'{save_dir}/{tag}_test.pkl'\n",
    "        with open(test_file, 'rb') as fout:\n",
    "            test = pickle.load(fout)\n",
    "            _, self.test_doc_to_rowindex, self.test = test\n",
    "            "
   ]
  },
  {
   "cell_type": "code",
   "execution_count": 135,
   "id": "73d67804",
   "metadata": {},
   "outputs": [],
   "source": [
    "amazon_graphs = AmazonGraphContainer()\n",
    "amazon_graphs.load_graphs(save_dir, tag='_dict')"
   ]
  },
  {
   "cell_type": "code",
   "execution_count": 136,
   "id": "f63444b1",
   "metadata": {},
   "outputs": [],
   "source": [
    "amazon_graphs.load_idtotitle(save_dir)"
   ]
  },
  {
   "cell_type": "code",
   "execution_count": 137,
   "id": "2d831f64",
   "metadata": {},
   "outputs": [],
   "source": [
    "id_to_title = amazon_graphs.id_to_title"
   ]
  },
  {
   "cell_type": "code",
   "execution_count": 141,
   "id": "7cabc535",
   "metadata": {},
   "outputs": [],
   "source": [
    "graph_types = ['also_buy', 'also_view', 'similar']\n",
    "\n",
    "data_splitter = {}\n",
    "for graph_type in graph_types:\n",
    "    \n",
    "    data_splitter[graph_type] = AmazonSplit(amazon_graphs.graphs[graph_type].graph)\n",
    "\n",
    "    data_splitter[graph_type].clean_matrix()\n",
    "    data_splitter[graph_type].get_split_bylabel(upper_threshold=10)\n",
    "    data_splitter[graph_type].save_data(save_dir, tag=f'{graph_type}')"
   ]
  },
  {
   "cell_type": "code",
   "execution_count": 142,
   "id": "3ff8caa3",
   "metadata": {
    "code_folding": [
     2
    ]
   },
   "outputs": [],
   "source": [
    "metrics = []\n",
    "\n",
    "for graph_type in graph_types:\n",
    "    m = []\n",
    "    trn_graph = data_splitter[graph_type].train\n",
    "    tst_graph = data_splitter[graph_type].test\n",
    "    m.append(trn_graph.shape[1])\n",
    "    m.append(trn_graph.shape[0])\n",
    "    m.append(tst_graph.shape[0])\n",
    "    \n",
    "    graph = data_splitter[graph_type].graph\n",
    "    points_per_label = np.array(graph.sum(axis=0))[0]\n",
    "    m.append(np.all( points_per_label > 0 ))\n",
    "    m.append(np.mean(points_per_label))\n",
    "    \n",
    "    labels_per_point = np.array(graph.sum(axis=1))[0]\n",
    "    m.append(np.all( labels_per_point > 0 ))\n",
    "    m.append(np.mean(labels_per_point))\n",
    "    \n",
    "    metrics.append(m)\n",
    "    "
   ]
  },
  {
   "cell_type": "code",
   "execution_count": 143,
   "id": "13b234ba",
   "metadata": {},
   "outputs": [],
   "source": [
    "import pandas as pd"
   ]
  },
  {
   "cell_type": "code",
   "execution_count": 144,
   "id": "7917d191",
   "metadata": {},
   "outputs": [
    {
     "data": {
      "text/html": [
       "<div>\n",
       "<style scoped>\n",
       "    .dataframe tbody tr th:only-of-type {\n",
       "        vertical-align: middle;\n",
       "    }\n",
       "\n",
       "    .dataframe tbody tr th {\n",
       "        vertical-align: top;\n",
       "    }\n",
       "\n",
       "    .dataframe thead th {\n",
       "        text-align: right;\n",
       "    }\n",
       "</style>\n",
       "<table border=\"1\" class=\"dataframe\">\n",
       "  <thead>\n",
       "    <tr style=\"text-align: right;\">\n",
       "      <th></th>\n",
       "      <th>labels</th>\n",
       "      <th>number of train</th>\n",
       "      <th>number of test</th>\n",
       "      <th>full labels</th>\n",
       "      <th>points per label</th>\n",
       "      <th>full rows</th>\n",
       "      <th>labels per point</th>\n",
       "    </tr>\n",
       "  </thead>\n",
       "  <tbody>\n",
       "    <tr>\n",
       "      <th>also_buy</th>\n",
       "      <td>1591824</td>\n",
       "      <td>1502829</td>\n",
       "      <td>645683</td>\n",
       "      <td>True</td>\n",
       "      <td>16.246278</td>\n",
       "      <td>True</td>\n",
       "      <td>3.0</td>\n",
       "    </tr>\n",
       "    <tr>\n",
       "      <th>also_view</th>\n",
       "      <td>1712182</td>\n",
       "      <td>1722517</td>\n",
       "      <td>742851</td>\n",
       "      <td>True</td>\n",
       "      <td>10.785238</td>\n",
       "      <td>True</td>\n",
       "      <td>1.0</td>\n",
       "    </tr>\n",
       "    <tr>\n",
       "      <th>similar</th>\n",
       "      <td>388544</td>\n",
       "      <td>840754</td>\n",
       "      <td>361756</td>\n",
       "      <td>True</td>\n",
       "      <td>6.297799</td>\n",
       "      <td>True</td>\n",
       "      <td>1.0</td>\n",
       "    </tr>\n",
       "  </tbody>\n",
       "</table>\n",
       "</div>"
      ],
      "text/plain": [
       "            labels  number of train  number of test  full labels  \\\n",
       "also_buy   1591824          1502829          645683         True   \n",
       "also_view  1712182          1722517          742851         True   \n",
       "similar     388544           840754          361756         True   \n",
       "\n",
       "           points per label  full rows  labels per point  \n",
       "also_buy          16.246278       True               3.0  \n",
       "also_view         10.785238       True               1.0  \n",
       "similar            6.297799       True               1.0  "
      ]
     },
     "execution_count": 144,
     "metadata": {},
     "output_type": "execute_result"
    }
   ],
   "source": [
    "pd.DataFrame(metrics,columns=['labels', 'number of train', 'number of test', 'full labels', 'points per label',\n",
    "                             'full rows', 'labels per point'], index=graph_types)"
   ]
  },
  {
   "cell_type": "code",
   "execution_count": 80,
   "id": "44a6b4da",
   "metadata": {},
   "outputs": [],
   "source": [
    "count_empty_id = 0\n",
    "count_empty_title = 0\n",
    "\n",
    "for product_id, product_title in amazon_graphs.id_to_title.items():\n",
    "    if not len(product_id):\n",
    "        count_empty_id += 1\n",
    "    if not len(product_title):\n",
    "        count_empty_title += 1\n",
    "        break"
   ]
  },
  {
   "cell_type": "code",
   "execution_count": 82,
   "id": "8177699d",
   "metadata": {},
   "outputs": [
    {
     "data": {
      "text/plain": [
       "''"
      ]
     },
     "execution_count": 82,
     "metadata": {},
     "output_type": "execute_result"
    }
   ],
   "source": [
    "amazon_graphs.id_to_title[product_id]"
   ]
  },
  {
   "cell_type": "markdown",
   "id": "cf1d18ef",
   "metadata": {},
   "source": [
    "## XC dataset format"
   ]
  },
  {
   "cell_type": "code",
   "execution_count": 131,
   "id": "e8b173ea",
   "metadata": {
    "code_folding": [
     0,
     8,
     20,
     32,
     55,
     64,
     72,
     80,
     84,
     94,
     111,
     122,
     130,
     143,
     157,
     163
    ]
   },
   "outputs": [],
   "source": [
    "class XCDataset:\n",
    "    \n",
    "    def __init__(self):\n",
    "        self.description = None\n",
    "        self.id_to_title = {}\n",
    "        \n",
    "        self.data_splitter = {}\n",
    "        \n",
    "    def load_idtotitle(self, save_dir, tag='', verbose=True):\n",
    "        \"\"\"\n",
    "        Loading id_to_title\n",
    "        \"\"\"\n",
    "        if verbose:\n",
    "            print(\"** Loading Amazon product 'id_to_title'.\")\n",
    "            \n",
    "        graph_data = AmazonGraphContainer()        \n",
    "        graph_data.load_idtotitle(save_dir, tag=tag)\n",
    "        \n",
    "        self.id_to_title = graph_data.id_to_title\n",
    "        \n",
    "    def load_description(self, save_dir, tag='', verbose=True):\n",
    "        \"\"\"\n",
    "        Loading description.\n",
    "        \"\"\"\n",
    "        if verbose:\n",
    "            print(\"** Loading Amazon 'description'.\")\n",
    "            \n",
    "        graph_data = AmazonGraphContainer()       \n",
    "        graph_data.load_description(save_dir, tag=tag)\n",
    "        \n",
    "        self.description = graph_data.description\n",
    "        \n",
    "    def save_sparse_file(self, matrix, save_file):\n",
    "        matrix.sort_indices()\n",
    "        rows, cols = matrix.nonzero()\n",
    "        data = matrix.data\n",
    "\n",
    "        with open(save_file, 'w') as fout:\n",
    "            fout.write(f'{matrix.shape[0]} {matrix.shape[1]}\\n')\n",
    "\n",
    "            row_ctr = -1\n",
    "            line = ''\n",
    "            for r, c, d in zip(rows, cols, data):\n",
    "                if row_ctr == r:\n",
    "                    line = line+f' {c}:{d}'\n",
    "                elif row_ctr+1 == r:\n",
    "                    if line:\n",
    "                        fout.write(f'{line}\\n')\n",
    "                    line = f'{c}:{d}'\n",
    "                    row_ctr += 1\n",
    "                else:\n",
    "                    raise Exception(\"Row is missing.\")\n",
    "            if line:\n",
    "                fout.write(f'{line}\\n')\n",
    "        \n",
    "    def save_XY_text(self, save_dir, doc_to_rowindex, tag=''):\n",
    "        os.makedirs(save_dir, exist_ok=True)\n",
    "        \n",
    "        idtocontent_file = f'{save_dir}/{tag}_id_to_text.txt'\n",
    "        self.save_XY_content(idtocontent_file, self.id_to_title, doc_to_rowindex, self.description)\n",
    "\n",
    "        idtotitle_file = f'{save_dir}/{tag}_id_to_title.txt'\n",
    "        self.save_XY_title(idtotitle_file, self.id_to_title, doc_to_rowindex)\n",
    "                    \n",
    "    def save_XY_content(self, idtocontent_file, id_to_title, doc_to_rowindex, content):\n",
    "        with open(idtocontent_file, 'w') as fout:\n",
    "            for doc_id in sorted(doc_to_rowindex, key=lambda x : doc_to_rowindex[x]):\n",
    "                if doc_id in content:\n",
    "                    fout.write(f'{doc_id}->{content[doc_id]}\\n')\n",
    "                else:\n",
    "                    fout.write(f'{doc_id}->\\n')\n",
    "                    \n",
    "    def save_XY_title(self, idtotitle_file, id_to_title, doc_to_rowindex):\n",
    "        with open(idtotitle_file, 'w') as fout:\n",
    "            for doc_id in sorted(doc_to_rowindex, key=lambda x : doc_to_rowindex[x]):\n",
    "                if doc_id in id_to_title:\n",
    "                    fout.write(f'{doc_id}->{id_to_title[doc_id]}\\n')\n",
    "                else:\n",
    "                    fout.write(f'{doc_id}\\n')\n",
    "                \n",
    "    def load_classification_data(self, save_dir, tag='_dict', graph_type='also_buy', verbose=True):\n",
    "        \"\"\"\n",
    "        Creating Classification train-test split\n",
    "        \"\"\"\n",
    "        if verbose:\n",
    "            print(f\"** Creating {graph_type} classification train-test.\")\n",
    "        \n",
    "        graph_data = AmazonGraphContainer()\n",
    "        graph_data.load_graph(save_dir, tag=tag, graph_type=graph_type)\n",
    "        \n",
    "        self.data_splitter[graph_type] = AmazonSplit(graph_data.graphs[graph_type].graph)\n",
    "        self.data_splitter[graph_type].clean_matrix()\n",
    "        self.data_splitter[graph_type].get_split_bylabel(upper_threshold=10)\n",
    "                \n",
    "    def save_XCClassification_text(self, xc_dir, graph_type='also_buy', verbose=True):\n",
    "        \"\"\"\n",
    "        Saving Classification XY - title and content(text) \n",
    "        \"\"\"\n",
    "        if verbose:\n",
    "            print(f\"** Saving {graph_type} classification train X-article text\")\n",
    "        self.save_XY_text(xc_dir, self.data_splitter[graph_type].train_doc_to_rowindex,\n",
    "                          tag=f'{graph_type}_classification_train_X')\n",
    "        if verbose:\n",
    "            print(f\"** Saving {graph_type} classification test X-article text\")\n",
    "        self.save_XY_text(xc_dir, self.data_splitter[graph_type].test_doc_to_rowindex,\n",
    "                          tag=f'{graph_type}_classification_test_X')\n",
    "        if verbose:\n",
    "            print(f\"** Saving {graph_type} classification Y-label text\")\n",
    "        self.save_XY_text(xc_dir, self.data_splitter[graph_type].trn_tst_labels,\n",
    "                          tag=f'{graph_type}_classification_Y')\n",
    "                      \n",
    "    def save_XCClassification_data(self, xc_dir, graph_type='also_buy', verbose=True):\n",
    "        if verbose:\n",
    "            print(f\"** Saving {graph_type} classification train 'trn_X_Y.txt'.\")\n",
    "        train_file = f'{xc_dir}/{graph_type}_trn_X_Y.txt'\n",
    "        self.save_sparse_file(self.data_splitter[graph_type].train, train_file)\n",
    "        \n",
    "        if verbose:\n",
    "            print(f\"** Saving {graph_type} classification test 'tst_X_Y.txt'.\")\n",
    "        test_file = f'{xc_dir}/{graph_type}_tst_X_Y.txt'\n",
    "        self.save_sparse_file(self.data_splitter[graph_type].test, test_file)\n",
    "        \n",
    "    def save_XCClassification(self, save_dir, xc_dir, tag='_dict', graph_type='also_buy', verbose=True):\n",
    "        \"\"\"\n",
    "        XC Classification\n",
    "        \"\"\"\n",
    "        self.load_classification_data(save_dir, tag=tag, graph_type=graph_type, verbose=verbose)\n",
    "        self.save_XCClassification_text(xc_dir, graph_type=graph_type, verbose=verbose)\n",
    "        self.save_XCClassification_data(xc_dir, graph_type=graph_type, verbose=verbose)\n",
    "        \n",
    "    def load_graph_data(self, save_dir, tag='', graph_type='also_buy', verbose=True):\n",
    "        \"\"\"\n",
    "        Loading Graph\n",
    "        \"\"\"\n",
    "        if verbose:\n",
    "            print(f\"** Loading {graph_type} graph.\")\n",
    "            \n",
    "        graph_data = AmazonGraphContainer()\n",
    "        graph_data.load_graph(save_dir, tag=tag, graph_type=graph_type)\n",
    "        \n",
    "        self.data_splitter[graph_type] = AmazonSplit(graph_data.graphs[graph_type].graph)\n",
    "        self.data_splitter[graph_type].clean_matrix(clean_type=1)\n",
    "    \n",
    "    def save_XCGraph_text(self, xc_dir, graph_type='also_buy', verbose=True):\n",
    "        \"\"\"\n",
    "        Saving XC-Graph text\n",
    "        \"\"\"\n",
    "        if verbose:\n",
    "            print(f\"** Saving {graph_type}_graph X-text.\")\n",
    "        self.save_XY_text(xc_dir, self.data_splitter[graph_type].doc_to_rowindex,\n",
    "                          tag=f'{graph_type}_graph_X')\n",
    "        \n",
    "        if verbose:\n",
    "            print(f\"** Saving {graph_type}_graph Y-text.\")\n",
    "        self.save_XY_text(xc_dir, self.data_splitter[graph_type].labels,\n",
    "                          tag=f'{graph_type}_graph_Y')\n",
    "        \n",
    "    def save_XCGraph_data(self, xc_dir, graph_type='also_buy', verbose=True):\n",
    "        if verbose:\n",
    "            print(f\"** Saving '{graph_type}_graph_trn_X_Y.txt'\")\n",
    "        graph_file = f'{xc_dir}/{graph_type}_graph_trn_X_Y.txt'\n",
    "        self.save_sparse_file(self.data_splitter[graph_type].graph, graph_file)\n",
    "        \n",
    "    def save_XCGraph(self, save_dir, xc_dir, tag='_dict', graph_type='also_buy', verbose=True):\n",
    "        \"\"\"\n",
    "        XC Graph\n",
    "        \"\"\"\n",
    "        self.load_graph_data(save_dir, tag=tag, graph_type=graph_type, verbose=verbose)\n",
    "        self.save_XCGraph_text(xc_dir, graph_type=graph_type, verbose=verbose)\n",
    "        self.save_XCGraph_data(xc_dir, graph_type=graph_type, verbose=verbose)\n",
    "        \n",
    "    def create_XCData(self, save_dir, xc_dir, tag='_dict', verbose=True):\n",
    "        self.load_idtotitle(save_dir, tag='', verbose=verbose)\n",
    "        self.load_description(save_dir, tag='', verbose=verbose)\n",
    "        \n",
    "        graph_types = ['also_buy', 'also_view', 'similar']\n",
    "        for graph_type in graph_types:\n",
    "            if verbose:\n",
    "                print(f'-- Processing {graph_type} graph.')\n",
    "            self.save_XCClassification(save_dir, xc_dir, tag=tag, graph_type=graph_type, verbose=verbose)\n",
    "            self.save_XCGraph(save_dir, xc_dir, tag=tag, graph_type=graph_type, verbose=verbose)\n",
    "            if verbose:\n",
    "                print()\n",
    "                "
   ]
  },
  {
   "cell_type": "code",
   "execution_count": 132,
   "id": "8e7e225d",
   "metadata": {},
   "outputs": [],
   "source": [
    "save_dir = f'{dataset_home}/GraphAmazonProducts/results'\n",
    "xc_dir = f'{dataset_home}/GraphAmazonProducts/XCData'"
   ]
  },
  {
   "cell_type": "code",
   "execution_count": 133,
   "id": "a26a8c78",
   "metadata": {},
   "outputs": [
    {
     "name": "stdout",
     "output_type": "stream",
     "text": [
      "** Loading Amazon product 'id_to_title'.\n",
      "** Loading Amazon 'description'.\n",
      "-- Processing also_buy graph.\n",
      "** Creating also_buy classification train-test.\n",
      "** Saving also_buy classification train X-article text\n",
      "** Saving also_buy classification test X-article text\n",
      "** Saving also_buy classification Y-label text\n",
      "** Saving also_buy classification train 'trn_X_Y.txt'.\n",
      "** Saving also_buy classification test 'tst_X_Y.txt'.\n",
      "** Loading also_buy graph.\n",
      "** Saving also_buy_graph X-text.\n",
      "** Saving also_buy_graph Y-text.\n",
      "** Saving 'also_buy_graph_trn_X_Y.txt'\n",
      "\n",
      "-- Processing also_view graph.\n",
      "** Creating also_view classification train-test.\n",
      "** Saving also_view classification train X-article text\n",
      "** Saving also_view classification test X-article text\n",
      "** Saving also_view classification Y-label text\n",
      "** Saving also_view classification train 'trn_X_Y.txt'.\n",
      "** Saving also_view classification test 'tst_X_Y.txt'.\n",
      "** Loading also_view graph.\n",
      "** Saving also_view_graph X-text.\n",
      "** Saving also_view_graph Y-text.\n",
      "** Saving 'also_view_graph_trn_X_Y.txt'\n",
      "\n",
      "-- Processing similar graph.\n",
      "** Creating similar classification train-test.\n",
      "** Saving similar classification train X-article text\n",
      "** Saving similar classification test X-article text\n",
      "** Saving similar classification Y-label text\n",
      "** Saving similar classification train 'trn_X_Y.txt'.\n",
      "** Saving similar classification test 'tst_X_Y.txt'.\n",
      "** Loading similar graph.\n",
      "** Saving similar_graph X-text.\n",
      "** Saving similar_graph Y-text.\n",
      "** Saving 'similar_graph_trn_X_Y.txt'\n",
      "\n"
     ]
    }
   ],
   "source": [
    "xc_data = XCDataset()\n",
    "xc_data.create_XCData(save_dir, xc_dir, tag=f'_dict')"
   ]
  },
  {
   "cell_type": "code",
   "execution_count": null,
   "id": "c48fe208",
   "metadata": {},
   "outputs": [],
   "source": []
  },
  {
   "cell_type": "code",
   "execution_count": null,
   "id": "dc8b81d7",
   "metadata": {},
   "outputs": [],
   "source": []
  }
 ],
 "metadata": {
  "kernelspec": {
   "display_name": "Python 3",
   "language": "python",
   "name": "python3"
  },
  "language_info": {
   "codemirror_mode": {
    "name": "ipython",
    "version": 3
   },
   "file_extension": ".py",
   "mimetype": "text/x-python",
   "name": "python",
   "nbconvert_exporter": "python",
   "pygments_lexer": "ipython3",
   "version": "3.8.8"
  }
 },
 "nbformat": 4,
 "nbformat_minor": 5
}
